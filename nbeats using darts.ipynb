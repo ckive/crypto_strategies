{
 "cells": [
  {
   "cell_type": "code",
   "execution_count": 1,
   "id": "incoming-studio",
   "metadata": {},
   "outputs": [
    {
     "name": "stdout",
     "output_type": "stream",
     "text": [
      "Config option `kernel_spec_manager_class` not recognized by `EnableNBExtensionApp`.\r\n",
      "Enabling notebook extension jupyter-js-widgets/extension...\r\n",
      "      - Validating: \u001b[32mOK\u001b[0m\r\n"
     ]
    }
   ],
   "source": [
    "!jupyter nbextension enable --py widgetsnbextension"
   ]
  },
  {
   "cell_type": "markdown",
   "id": "anonymous-church",
   "metadata": {},
   "source": [
    "NOTE FREQ: <br>\n",
    "https://stackoverflow.com/questions/35339139/what-values-are-valid-in-pandas-freq-tags/35339226#35339226"
   ]
  },
  {
   "cell_type": "code",
   "execution_count": 48,
   "id": "appointed-battle",
   "metadata": {},
   "outputs": [],
   "source": [
    "import pandas as pd\n",
    "from darts import TimeSeries\n",
    "from cpl.data.processor_binance import BinanceProcessor\n",
    "import numpy as np\n",
    "\n",
    "# # Read a pandas DataFrame\n",
    "# df = pd.read_csv('AirPassengers.csv', delimiter=\",\")\n",
    "\n",
    "# # Create a TimeSeries, specifying the time and value columns\n",
    "# series = TimeSeries.from_dataframe(df, 'Month', '#Passengers')\n",
    "\n",
    "# # Set aside the last 36 months as a validation series\n",
    "# train, val = series[:-36], series[-36:]"
   ]
  },
  {
   "cell_type": "code",
   "execution_count": 191,
   "id": "thirty-sponsorship",
   "metadata": {},
   "outputs": [],
   "source": [
    "ticker_list = [\"BTCUSDT\"]\n",
    "start_date = \"2021-12-01\"\n",
    "end_date = \"2021-12-05\"\n",
    "time_interval = \"1m\"\n",
    "tech_inds = [] #['macd']"
   ]
  },
  {
   "cell_type": "code",
   "execution_count": 192,
   "id": "atlantic-island",
   "metadata": {},
   "outputs": [
    {
     "name": "stdout",
     "output_type": "stream",
     "text": [
      "Succesfully add technical indicators\n"
     ]
    }
   ],
   "source": [
    "p = BinanceProcessor(\"binance\")\n",
    "df = p.download_data(ticker_list, start_date, end_date, time_interval)\n",
    "df = p.add_technical_indicator(df, tech_inds)"
   ]
  },
  {
   "cell_type": "code",
   "execution_count": 193,
   "id": "laden-dubai",
   "metadata": {},
   "outputs": [],
   "source": [
    "# 10 min ema\n",
    "#df['10mEWM'] = df['close'].ewm(span=10, adjust=False).mean()"
   ]
  },
  {
   "cell_type": "code",
   "execution_count": 194,
   "id": "communist-knowing",
   "metadata": {},
   "outputs": [],
   "source": [
    "df['time'] = pd.to_datetime(df['time'])"
   ]
  },
  {
   "cell_type": "code",
   "execution_count": 195,
   "id": "occupational-virgin",
   "metadata": {},
   "outputs": [
    {
     "data": {
      "text/plain": [
       "pandas.core.series.Series"
      ]
     },
     "execution_count": 195,
     "metadata": {},
     "output_type": "execute_result"
    }
   ],
   "source": [
    "type(df['time'])"
   ]
  },
  {
   "cell_type": "code",
   "execution_count": 196,
   "id": "digital-detection",
   "metadata": {},
   "outputs": [
    {
     "data": {
      "text/html": [
       "<div>\n",
       "<style scoped>\n",
       "    .dataframe tbody tr th:only-of-type {\n",
       "        vertical-align: middle;\n",
       "    }\n",
       "\n",
       "    .dataframe tbody tr th {\n",
       "        vertical-align: top;\n",
       "    }\n",
       "\n",
       "    .dataframe thead th {\n",
       "        text-align: right;\n",
       "    }\n",
       "</style>\n",
       "<table border=\"1\" class=\"dataframe\">\n",
       "  <thead>\n",
       "    <tr style=\"text-align: right;\">\n",
       "      <th></th>\n",
       "      <th>time</th>\n",
       "      <th>open</th>\n",
       "      <th>high</th>\n",
       "      <th>low</th>\n",
       "      <th>close</th>\n",
       "      <th>volume</th>\n",
       "      <th>adj_close</th>\n",
       "      <th>tic</th>\n",
       "    </tr>\n",
       "  </thead>\n",
       "  <tbody>\n",
       "    <tr>\n",
       "      <th>0</th>\n",
       "      <td>2021-12-01 00:00:00</td>\n",
       "      <td>56782.00</td>\n",
       "      <td>56817.36</td>\n",
       "      <td>56780.00</td>\n",
       "      <td>56782.00</td>\n",
       "      <td>17.52761</td>\n",
       "      <td>56782.00</td>\n",
       "      <td>BTCUSDT</td>\n",
       "    </tr>\n",
       "    <tr>\n",
       "      <th>1</th>\n",
       "      <td>2021-12-01 00:01:00</td>\n",
       "      <td>56782.00</td>\n",
       "      <td>56813.51</td>\n",
       "      <td>56740.00</td>\n",
       "      <td>56755.50</td>\n",
       "      <td>39.00328</td>\n",
       "      <td>56755.50</td>\n",
       "      <td>BTCUSDT</td>\n",
       "    </tr>\n",
       "    <tr>\n",
       "      <th>2</th>\n",
       "      <td>2021-12-01 00:02:00</td>\n",
       "      <td>56755.49</td>\n",
       "      <td>56755.50</td>\n",
       "      <td>56712.21</td>\n",
       "      <td>56720.84</td>\n",
       "      <td>23.64537</td>\n",
       "      <td>56720.84</td>\n",
       "      <td>BTCUSDT</td>\n",
       "    </tr>\n",
       "    <tr>\n",
       "      <th>3</th>\n",
       "      <td>2021-12-01 00:03:00</td>\n",
       "      <td>56720.83</td>\n",
       "      <td>56749.73</td>\n",
       "      <td>56712.22</td>\n",
       "      <td>56720.01</td>\n",
       "      <td>17.43134</td>\n",
       "      <td>56720.01</td>\n",
       "      <td>BTCUSDT</td>\n",
       "    </tr>\n",
       "    <tr>\n",
       "      <th>4</th>\n",
       "      <td>2021-12-01 00:04:00</td>\n",
       "      <td>56717.01</td>\n",
       "      <td>56727.62</td>\n",
       "      <td>56700.00</td>\n",
       "      <td>56714.45</td>\n",
       "      <td>19.49503</td>\n",
       "      <td>56714.45</td>\n",
       "      <td>BTCUSDT</td>\n",
       "    </tr>\n",
       "  </tbody>\n",
       "</table>\n",
       "</div>"
      ],
      "text/plain": [
       "                 time      open      high       low     close    volume  \\\n",
       "0 2021-12-01 00:00:00  56782.00  56817.36  56780.00  56782.00  17.52761   \n",
       "1 2021-12-01 00:01:00  56782.00  56813.51  56740.00  56755.50  39.00328   \n",
       "2 2021-12-01 00:02:00  56755.49  56755.50  56712.21  56720.84  23.64537   \n",
       "3 2021-12-01 00:03:00  56720.83  56749.73  56712.22  56720.01  17.43134   \n",
       "4 2021-12-01 00:04:00  56717.01  56727.62  56700.00  56714.45  19.49503   \n",
       "\n",
       "   adj_close      tic  \n",
       "0   56782.00  BTCUSDT  \n",
       "1   56755.50  BTCUSDT  \n",
       "2   56720.84  BTCUSDT  \n",
       "3   56720.01  BTCUSDT  \n",
       "4   56714.45  BTCUSDT  "
      ]
     },
     "execution_count": 196,
     "metadata": {},
     "output_type": "execute_result"
    }
   ],
   "source": [
    "df.head()"
   ]
  },
  {
   "cell_type": "code",
   "execution_count": 200,
   "id": "economic-dryer",
   "metadata": {},
   "outputs": [],
   "source": [
    "#x_feats = ['open','high','low','close','volume','macd','10mEWM']\n",
    "x_feats = 'close'"
   ]
  },
  {
   "cell_type": "code",
   "execution_count": 201,
   "id": "tamil-extraction",
   "metadata": {},
   "outputs": [],
   "source": [
    "# Create a TimeSeries, specifying the time and value columns\n",
    "#note freq: \n",
    "series = TimeSeries.from_dataframe(\n",
    "    df, freq='T', time_col='time', value_cols=x_feats,\n",
    "    fill_missing_dates=True, \n",
    ")"
   ]
  },
  {
   "cell_type": "code",
   "execution_count": 202,
   "id": "adult-perspective",
   "metadata": {},
   "outputs": [
    {
     "data": {
      "text/plain": [
       "(2999, 8)"
      ]
     },
     "execution_count": 202,
     "metadata": {},
     "output_type": "execute_result"
    }
   ],
   "source": [
    "df.shape"
   ]
  },
  {
   "cell_type": "code",
   "execution_count": 203,
   "id": "complex-delight",
   "metadata": {
    "scrolled": true
   },
   "outputs": [
    {
     "data": {
      "image/png": "[encoded data removed]",
      "text/plain": [
       "<Figure size 432x288 with 1 Axes>"
      ]
     },
     "metadata": {
      "needs_background": "light"
     },
     "output_type": "display_data"
    }
   ],
   "source": [
    "series.plot()"
   ]
  },
  {
   "cell_type": "code",
   "execution_count": 42,
   "id": "fresh-devon",
   "metadata": {},
   "outputs": [],
   "source": [
    "def train_val_split(series, pct=0.7):\n",
    "    split = int(len(series)*0.7)\n",
    "    train, val = series[:split], series[split:]\n",
    "    assert len(train) + len(val) == len(series)\n",
    "    return train, val"
   ]
  },
  {
   "cell_type": "code",
   "execution_count": 43,
   "id": "still-stretch",
   "metadata": {},
   "outputs": [],
   "source": [
    "tr, val = train_val_split(series)"
   ]
  },
  {
   "cell_type": "markdown",
   "id": "crazy-handle",
   "metadata": {},
   "source": [
    "## VARIMA"
   ]
  },
  {
   "cell_type": "code",
   "execution_count": 11,
   "id": "circular-newcastle",
   "metadata": {},
   "outputs": [
    {
     "name": "stderr",
     "output_type": "stream",
     "text": [
      "Importing plotly failed. Interactive plots will not work.\n"
     ]
    }
   ],
   "source": [
    "from darts.models.forecasting.varima import VARIMA"
   ]
  },
  {
   "cell_type": "code",
   "execution_count": null,
   "id": "greenhouse-batch",
   "metadata": {},
   "outputs": [],
   "source": []
  },
  {
   "cell_type": "code",
   "execution_count": null,
   "id": "chronic-digest",
   "metadata": {},
   "outputs": [],
   "source": []
  },
  {
   "cell_type": "markdown",
   "id": "afraid-journey",
   "metadata": {},
   "source": [
    "## NBEATS Example from Darts"
   ]
  },
  {
   "cell_type": "code",
   "execution_count": 12,
   "id": "linear-stomach",
   "metadata": {},
   "outputs": [],
   "source": [
    "import numpy as np\n",
    "import pandas as pd\n",
    "import matplotlib.pyplot as plt\n",
    "\n",
    "from darts import TimeSeries\n",
    "from darts.models import NBEATSModel\n",
    "from darts.dataprocessing.transformers import Scaler, MissingValuesFiller\n",
    "from darts.metrics import mape, r2_score\n",
    "from darts.datasets import EnergyDataset"
   ]
  },
  {
   "cell_type": "code",
   "execution_count": 13,
   "id": "dramatic-copper",
   "metadata": {},
   "outputs": [],
   "source": [
    "def display_forecast(pred_series, ts_transformed, forecast_type, start_date=None):\n",
    "    plt.figure(figsize=(8, 5))\n",
    "    if start_date:\n",
    "        ts_transformed = ts_transformed.drop_before(start_date)\n",
    "    ts_transformed.univariate_component(0).plot(label=\"actual\")\n",
    "    pred_series.plot(label=(\"historic \" + forecast_type + \" forecasts\"))\n",
    "    plt.title(\n",
    "        \"R2: {}\".format(r2_score(ts_transformed.univariate_component(0), pred_series))\n",
    "    )\n",
    "    plt.legend()"
   ]
  },
  {
   "cell_type": "code",
   "execution_count": 121,
   "id": "automatic-therapy",
   "metadata": {
    "scrolled": true
   },
   "outputs": [
    {
     "data": {
      "text/plain": [
       "Text(0.5, 1.0, 'Hourly generation hydro run-of-river and poundage')"
      ]
     },
     "execution_count": 121,
     "metadata": {},
     "output_type": "execute_result"
    },
    {
     "data": {
      "image/png": "[encoded data removed]",
      "text/plain": [
       "<Figure size 432x288 with 1 Axes>"
      ]
     },
     "metadata": {
      "needs_background": "light"
     },
     "output_type": "display_data"
    }
   ],
   "source": [
    "df = EnergyDataset().load().pd_dataframe()\n",
    "df[\"generation hydro run-of-river and poundage\"].plot()\n",
    "plt.title(\"Hourly generation hydro run-of-river and poundage\")"
   ]
  },
  {
   "cell_type": "code",
   "execution_count": 122,
   "id": "yellow-favorite",
   "metadata": {},
   "outputs": [],
   "source": [
    "df.reset_index(inplace=True)"
   ]
  },
  {
   "cell_type": "code",
   "execution_count": 124,
   "id": "serious-bullet",
   "metadata": {},
   "outputs": [
    {
     "data": {
      "text/html": [
       "<div>\n",
       "<style scoped>\n",
       "    .dataframe tbody tr th:only-of-type {\n",
       "        vertical-align: middle;\n",
       "    }\n",
       "\n",
       "    .dataframe tbody tr th {\n",
       "        vertical-align: top;\n",
       "    }\n",
       "\n",
       "    .dataframe thead th {\n",
       "        text-align: right;\n",
       "    }\n",
       "</style>\n",
       "<table border=\"1\" class=\"dataframe\">\n",
       "  <thead>\n",
       "    <tr style=\"text-align: right;\">\n",
       "      <th>component</th>\n",
       "      <th>time</th>\n",
       "      <th>generation biomass</th>\n",
       "      <th>generation fossil brown coal/lignite</th>\n",
       "      <th>generation fossil coal-derived gas</th>\n",
       "      <th>generation fossil gas</th>\n",
       "      <th>generation fossil hard coal</th>\n",
       "      <th>generation fossil oil</th>\n",
       "      <th>generation fossil oil shale</th>\n",
       "      <th>generation fossil peat</th>\n",
       "      <th>generation geothermal</th>\n",
       "      <th>...</th>\n",
       "      <th>generation waste</th>\n",
       "      <th>generation wind offshore</th>\n",
       "      <th>generation wind onshore</th>\n",
       "      <th>forecast solar day ahead</th>\n",
       "      <th>forecast wind offshore eday ahead</th>\n",
       "      <th>forecast wind onshore day ahead</th>\n",
       "      <th>total load forecast</th>\n",
       "      <th>total load actual</th>\n",
       "      <th>price day ahead</th>\n",
       "      <th>price actual</th>\n",
       "    </tr>\n",
       "  </thead>\n",
       "  <tbody>\n",
       "    <tr>\n",
       "      <th>0</th>\n",
       "      <td>2014-12-31 23:00:00</td>\n",
       "      <td>447.0</td>\n",
       "      <td>329.0</td>\n",
       "      <td>0.0</td>\n",
       "      <td>4844.0</td>\n",
       "      <td>4821.0</td>\n",
       "      <td>162.0</td>\n",
       "      <td>0.0</td>\n",
       "      <td>0.0</td>\n",
       "      <td>0.0</td>\n",
       "      <td>...</td>\n",
       "      <td>196.0</td>\n",
       "      <td>0.0</td>\n",
       "      <td>6378.0</td>\n",
       "      <td>17.0</td>\n",
       "      <td>NaN</td>\n",
       "      <td>6436.0</td>\n",
       "      <td>26118.0</td>\n",
       "      <td>25385.0</td>\n",
       "      <td>50.10</td>\n",
       "      <td>65.41</td>\n",
       "    </tr>\n",
       "    <tr>\n",
       "      <th>1</th>\n",
       "      <td>2015-01-01 00:00:00</td>\n",
       "      <td>449.0</td>\n",
       "      <td>328.0</td>\n",
       "      <td>0.0</td>\n",
       "      <td>5196.0</td>\n",
       "      <td>4755.0</td>\n",
       "      <td>158.0</td>\n",
       "      <td>0.0</td>\n",
       "      <td>0.0</td>\n",
       "      <td>0.0</td>\n",
       "      <td>...</td>\n",
       "      <td>195.0</td>\n",
       "      <td>0.0</td>\n",
       "      <td>5890.0</td>\n",
       "      <td>16.0</td>\n",
       "      <td>NaN</td>\n",
       "      <td>5856.0</td>\n",
       "      <td>24934.0</td>\n",
       "      <td>24382.0</td>\n",
       "      <td>48.10</td>\n",
       "      <td>64.92</td>\n",
       "    </tr>\n",
       "    <tr>\n",
       "      <th>2</th>\n",
       "      <td>2015-01-01 01:00:00</td>\n",
       "      <td>448.0</td>\n",
       "      <td>323.0</td>\n",
       "      <td>0.0</td>\n",
       "      <td>4857.0</td>\n",
       "      <td>4581.0</td>\n",
       "      <td>157.0</td>\n",
       "      <td>0.0</td>\n",
       "      <td>0.0</td>\n",
       "      <td>0.0</td>\n",
       "      <td>...</td>\n",
       "      <td>196.0</td>\n",
       "      <td>0.0</td>\n",
       "      <td>5461.0</td>\n",
       "      <td>8.0</td>\n",
       "      <td>NaN</td>\n",
       "      <td>5454.0</td>\n",
       "      <td>23515.0</td>\n",
       "      <td>22734.0</td>\n",
       "      <td>47.33</td>\n",
       "      <td>64.48</td>\n",
       "    </tr>\n",
       "    <tr>\n",
       "      <th>3</th>\n",
       "      <td>2015-01-01 02:00:00</td>\n",
       "      <td>438.0</td>\n",
       "      <td>254.0</td>\n",
       "      <td>0.0</td>\n",
       "      <td>4314.0</td>\n",
       "      <td>4131.0</td>\n",
       "      <td>160.0</td>\n",
       "      <td>0.0</td>\n",
       "      <td>0.0</td>\n",
       "      <td>0.0</td>\n",
       "      <td>...</td>\n",
       "      <td>191.0</td>\n",
       "      <td>0.0</td>\n",
       "      <td>5238.0</td>\n",
       "      <td>2.0</td>\n",
       "      <td>NaN</td>\n",
       "      <td>5151.0</td>\n",
       "      <td>22642.0</td>\n",
       "      <td>21286.0</td>\n",
       "      <td>42.27</td>\n",
       "      <td>59.32</td>\n",
       "    </tr>\n",
       "    <tr>\n",
       "      <th>4</th>\n",
       "      <td>2015-01-01 03:00:00</td>\n",
       "      <td>428.0</td>\n",
       "      <td>187.0</td>\n",
       "      <td>0.0</td>\n",
       "      <td>4130.0</td>\n",
       "      <td>3840.0</td>\n",
       "      <td>156.0</td>\n",
       "      <td>0.0</td>\n",
       "      <td>0.0</td>\n",
       "      <td>0.0</td>\n",
       "      <td>...</td>\n",
       "      <td>189.0</td>\n",
       "      <td>0.0</td>\n",
       "      <td>4935.0</td>\n",
       "      <td>9.0</td>\n",
       "      <td>NaN</td>\n",
       "      <td>4861.0</td>\n",
       "      <td>21785.0</td>\n",
       "      <td>20264.0</td>\n",
       "      <td>38.41</td>\n",
       "      <td>56.04</td>\n",
       "    </tr>\n",
       "    <tr>\n",
       "      <th>...</th>\n",
       "      <td>...</td>\n",
       "      <td>...</td>\n",
       "      <td>...</td>\n",
       "      <td>...</td>\n",
       "      <td>...</td>\n",
       "      <td>...</td>\n",
       "      <td>...</td>\n",
       "      <td>...</td>\n",
       "      <td>...</td>\n",
       "      <td>...</td>\n",
       "      <td>...</td>\n",
       "      <td>...</td>\n",
       "      <td>...</td>\n",
       "      <td>...</td>\n",
       "      <td>...</td>\n",
       "      <td>...</td>\n",
       "      <td>...</td>\n",
       "      <td>...</td>\n",
       "      <td>...</td>\n",
       "      <td>...</td>\n",
       "      <td>...</td>\n",
       "    </tr>\n",
       "    <tr>\n",
       "      <th>35059</th>\n",
       "      <td>2018-12-31 18:00:00</td>\n",
       "      <td>297.0</td>\n",
       "      <td>0.0</td>\n",
       "      <td>0.0</td>\n",
       "      <td>7634.0</td>\n",
       "      <td>2628.0</td>\n",
       "      <td>178.0</td>\n",
       "      <td>0.0</td>\n",
       "      <td>0.0</td>\n",
       "      <td>0.0</td>\n",
       "      <td>...</td>\n",
       "      <td>277.0</td>\n",
       "      <td>0.0</td>\n",
       "      <td>3113.0</td>\n",
       "      <td>96.0</td>\n",
       "      <td>NaN</td>\n",
       "      <td>3253.0</td>\n",
       "      <td>30619.0</td>\n",
       "      <td>30653.0</td>\n",
       "      <td>68.85</td>\n",
       "      <td>77.02</td>\n",
       "    </tr>\n",
       "    <tr>\n",
       "      <th>35060</th>\n",
       "      <td>2018-12-31 19:00:00</td>\n",
       "      <td>296.0</td>\n",
       "      <td>0.0</td>\n",
       "      <td>0.0</td>\n",
       "      <td>7241.0</td>\n",
       "      <td>2566.0</td>\n",
       "      <td>174.0</td>\n",
       "      <td>0.0</td>\n",
       "      <td>0.0</td>\n",
       "      <td>0.0</td>\n",
       "      <td>...</td>\n",
       "      <td>280.0</td>\n",
       "      <td>0.0</td>\n",
       "      <td>3288.0</td>\n",
       "      <td>51.0</td>\n",
       "      <td>NaN</td>\n",
       "      <td>3353.0</td>\n",
       "      <td>29932.0</td>\n",
       "      <td>29735.0</td>\n",
       "      <td>68.40</td>\n",
       "      <td>76.16</td>\n",
       "    </tr>\n",
       "    <tr>\n",
       "      <th>35061</th>\n",
       "      <td>2018-12-31 20:00:00</td>\n",
       "      <td>292.0</td>\n",
       "      <td>0.0</td>\n",
       "      <td>0.0</td>\n",
       "      <td>7025.0</td>\n",
       "      <td>2422.0</td>\n",
       "      <td>168.0</td>\n",
       "      <td>0.0</td>\n",
       "      <td>0.0</td>\n",
       "      <td>0.0</td>\n",
       "      <td>...</td>\n",
       "      <td>286.0</td>\n",
       "      <td>0.0</td>\n",
       "      <td>3503.0</td>\n",
       "      <td>36.0</td>\n",
       "      <td>NaN</td>\n",
       "      <td>3404.0</td>\n",
       "      <td>27903.0</td>\n",
       "      <td>28071.0</td>\n",
       "      <td>66.88</td>\n",
       "      <td>74.30</td>\n",
       "    </tr>\n",
       "    <tr>\n",
       "      <th>35062</th>\n",
       "      <td>2018-12-31 21:00:00</td>\n",
       "      <td>293.0</td>\n",
       "      <td>0.0</td>\n",
       "      <td>0.0</td>\n",
       "      <td>6562.0</td>\n",
       "      <td>2293.0</td>\n",
       "      <td>163.0</td>\n",
       "      <td>0.0</td>\n",
       "      <td>0.0</td>\n",
       "      <td>0.0</td>\n",
       "      <td>...</td>\n",
       "      <td>287.0</td>\n",
       "      <td>0.0</td>\n",
       "      <td>3586.0</td>\n",
       "      <td>29.0</td>\n",
       "      <td>NaN</td>\n",
       "      <td>3273.0</td>\n",
       "      <td>25450.0</td>\n",
       "      <td>25801.0</td>\n",
       "      <td>63.93</td>\n",
       "      <td>69.89</td>\n",
       "    </tr>\n",
       "    <tr>\n",
       "      <th>35063</th>\n",
       "      <td>2018-12-31 22:00:00</td>\n",
       "      <td>290.0</td>\n",
       "      <td>0.0</td>\n",
       "      <td>0.0</td>\n",
       "      <td>6926.0</td>\n",
       "      <td>2166.0</td>\n",
       "      <td>163.0</td>\n",
       "      <td>0.0</td>\n",
       "      <td>0.0</td>\n",
       "      <td>0.0</td>\n",
       "      <td>...</td>\n",
       "      <td>287.0</td>\n",
       "      <td>0.0</td>\n",
       "      <td>3651.0</td>\n",
       "      <td>26.0</td>\n",
       "      <td>NaN</td>\n",
       "      <td>3117.0</td>\n",
       "      <td>24424.0</td>\n",
       "      <td>24455.0</td>\n",
       "      <td>64.27</td>\n",
       "      <td>69.88</td>\n",
       "    </tr>\n",
       "  </tbody>\n",
       "</table>\n",
       "<p>35064 rows × 29 columns</p>\n",
       "</div>"
      ],
      "text/plain": [
       "component                time  generation biomass  \\\n",
       "0         2014-12-31 23:00:00               447.0   \n",
       "1         2015-01-01 00:00:00               449.0   \n",
       "2         2015-01-01 01:00:00               448.0   \n",
       "3         2015-01-01 02:00:00               438.0   \n",
       "4         2015-01-01 03:00:00               428.0   \n",
       "...                       ...                 ...   \n",
       "35059     2018-12-31 18:00:00               297.0   \n",
       "35060     2018-12-31 19:00:00               296.0   \n",
       "35061     2018-12-31 20:00:00               292.0   \n",
       "35062     2018-12-31 21:00:00               293.0   \n",
       "35063     2018-12-31 22:00:00               290.0   \n",
       "\n",
       "component  generation fossil brown coal/lignite  \\\n",
       "0                                         329.0   \n",
       "1                                         328.0   \n",
       "2                                         323.0   \n",
       "3                                         254.0   \n",
       "4                                         187.0   \n",
       "...                                         ...   \n",
       "35059                                       0.0   \n",
       "35060                                       0.0   \n",
       "35061                                       0.0   \n",
       "35062                                       0.0   \n",
       "35063                                       0.0   \n",
       "\n",
       "component  generation fossil coal-derived gas  generation fossil gas  \\\n",
       "0                                         0.0                 4844.0   \n",
       "1                                         0.0                 5196.0   \n",
       "2                                         0.0                 4857.0   \n",
       "3                                         0.0                 4314.0   \n",
       "4                                         0.0                 4130.0   \n",
       "...                                       ...                    ...   \n",
       "35059                                     0.0                 7634.0   \n",
       "35060                                     0.0                 7241.0   \n",
       "35061                                     0.0                 7025.0   \n",
       "35062                                     0.0                 6562.0   \n",
       "35063                                     0.0                 6926.0   \n",
       "\n",
       "component  generation fossil hard coal  generation fossil oil  \\\n",
       "0                               4821.0                  162.0   \n",
       "1                               4755.0                  158.0   \n",
       "2                               4581.0                  157.0   \n",
       "3                               4131.0                  160.0   \n",
       "4                               3840.0                  156.0   \n",
       "...                                ...                    ...   \n",
       "35059                           2628.0                  178.0   \n",
       "35060                           2566.0                  174.0   \n",
       "35061                           2422.0                  168.0   \n",
       "35062                           2293.0                  163.0   \n",
       "35063                           2166.0                  163.0   \n",
       "\n",
       "component  generation fossil oil shale  generation fossil peat  \\\n",
       "0                                  0.0                     0.0   \n",
       "1                                  0.0                     0.0   \n",
       "2                                  0.0                     0.0   \n",
       "3                                  0.0                     0.0   \n",
       "4                                  0.0                     0.0   \n",
       "...                                ...                     ...   \n",
       "35059                              0.0                     0.0   \n",
       "35060                              0.0                     0.0   \n",
       "35061                              0.0                     0.0   \n",
       "35062                              0.0                     0.0   \n",
       "35063                              0.0                     0.0   \n",
       "\n",
       "component  generation geothermal  ...  generation waste  \\\n",
       "0                            0.0  ...             196.0   \n",
       "1                            0.0  ...             195.0   \n",
       "2                            0.0  ...             196.0   \n",
       "3                            0.0  ...             191.0   \n",
       "4                            0.0  ...             189.0   \n",
       "...                          ...  ...               ...   \n",
       "35059                        0.0  ...             277.0   \n",
       "35060                        0.0  ...             280.0   \n",
       "35061                        0.0  ...             286.0   \n",
       "35062                        0.0  ...             287.0   \n",
       "35063                        0.0  ...             287.0   \n",
       "\n",
       "component  generation wind offshore  generation wind onshore  \\\n",
       "0                               0.0                   6378.0   \n",
       "1                               0.0                   5890.0   \n",
       "2                               0.0                   5461.0   \n",
       "3                               0.0                   5238.0   \n",
       "4                               0.0                   4935.0   \n",
       "...                             ...                      ...   \n",
       "35059                           0.0                   3113.0   \n",
       "35060                           0.0                   3288.0   \n",
       "35061                           0.0                   3503.0   \n",
       "35062                           0.0                   3586.0   \n",
       "35063                           0.0                   3651.0   \n",
       "\n",
       "component  forecast solar day ahead  forecast wind offshore eday ahead  \\\n",
       "0                              17.0                                NaN   \n",
       "1                              16.0                                NaN   \n",
       "2                               8.0                                NaN   \n",
       "3                               2.0                                NaN   \n",
       "4                               9.0                                NaN   \n",
       "...                             ...                                ...   \n",
       "35059                          96.0                                NaN   \n",
       "35060                          51.0                                NaN   \n",
       "35061                          36.0                                NaN   \n",
       "35062                          29.0                                NaN   \n",
       "35063                          26.0                                NaN   \n",
       "\n",
       "component  forecast wind onshore day ahead  total load forecast  \\\n",
       "0                                   6436.0              26118.0   \n",
       "1                                   5856.0              24934.0   \n",
       "2                                   5454.0              23515.0   \n",
       "3                                   5151.0              22642.0   \n",
       "4                                   4861.0              21785.0   \n",
       "...                                    ...                  ...   \n",
       "35059                               3253.0              30619.0   \n",
       "35060                               3353.0              29932.0   \n",
       "35061                               3404.0              27903.0   \n",
       "35062                               3273.0              25450.0   \n",
       "35063                               3117.0              24424.0   \n",
       "\n",
       "component  total load actual  price day ahead  price actual  \n",
       "0                    25385.0            50.10         65.41  \n",
       "1                    24382.0            48.10         64.92  \n",
       "2                    22734.0            47.33         64.48  \n",
       "3                    21286.0            42.27         59.32  \n",
       "4                    20264.0            38.41         56.04  \n",
       "...                      ...              ...           ...  \n",
       "35059                30653.0            68.85         77.02  \n",
       "35060                29735.0            68.40         76.16  \n",
       "35061                28071.0            66.88         74.30  \n",
       "35062                25801.0            63.93         69.89  \n",
       "35063                24455.0            64.27         69.88  \n",
       "\n",
       "[35064 rows x 29 columns]"
      ]
     },
     "execution_count": 124,
     "metadata": {},
     "output_type": "execute_result"
    }
   ],
   "source": [
    "df"
   ]
  },
  {
   "cell_type": "code",
   "execution_count": 106,
   "id": "capital-witness",
   "metadata": {},
   "outputs": [
    {
     "data": {
      "text/html": [
       "<div>\n",
       "<style scoped>\n",
       "    .dataframe tbody tr th:only-of-type {\n",
       "        vertical-align: middle;\n",
       "    }\n",
       "\n",
       "    .dataframe tbody tr th {\n",
       "        vertical-align: top;\n",
       "    }\n",
       "\n",
       "    .dataframe thead th {\n",
       "        text-align: right;\n",
       "    }\n",
       "</style>\n",
       "<table border=\"1\" class=\"dataframe\">\n",
       "  <thead>\n",
       "    <tr style=\"text-align: right;\">\n",
       "      <th>component</th>\n",
       "      <th>time</th>\n",
       "      <th>generation biomass</th>\n",
       "      <th>generation fossil brown coal/lignite</th>\n",
       "      <th>generation fossil coal-derived gas</th>\n",
       "      <th>generation fossil gas</th>\n",
       "      <th>generation fossil hard coal</th>\n",
       "      <th>generation fossil oil</th>\n",
       "      <th>generation fossil oil shale</th>\n",
       "      <th>generation fossil peat</th>\n",
       "      <th>generation geothermal</th>\n",
       "      <th>...</th>\n",
       "      <th>generation waste</th>\n",
       "      <th>generation wind offshore</th>\n",
       "      <th>generation wind onshore</th>\n",
       "      <th>forecast solar day ahead</th>\n",
       "      <th>forecast wind offshore eday ahead</th>\n",
       "      <th>forecast wind onshore day ahead</th>\n",
       "      <th>total load forecast</th>\n",
       "      <th>total load actual</th>\n",
       "      <th>price day ahead</th>\n",
       "      <th>price actual</th>\n",
       "    </tr>\n",
       "  </thead>\n",
       "  <tbody>\n",
       "    <tr>\n",
       "      <th>0</th>\n",
       "      <td>2014-12-31 23:00:00</td>\n",
       "      <td>447.0</td>\n",
       "      <td>329.0</td>\n",
       "      <td>0.0</td>\n",
       "      <td>4844.0</td>\n",
       "      <td>4821.0</td>\n",
       "      <td>162.0</td>\n",
       "      <td>0.0</td>\n",
       "      <td>0.0</td>\n",
       "      <td>0.0</td>\n",
       "      <td>...</td>\n",
       "      <td>196.0</td>\n",
       "      <td>0.0</td>\n",
       "      <td>6378.0</td>\n",
       "      <td>17.0</td>\n",
       "      <td>NaN</td>\n",
       "      <td>6436.0</td>\n",
       "      <td>26118.0</td>\n",
       "      <td>25385.0</td>\n",
       "      <td>50.10</td>\n",
       "      <td>65.41</td>\n",
       "    </tr>\n",
       "    <tr>\n",
       "      <th>1</th>\n",
       "      <td>2015-01-01 00:00:00</td>\n",
       "      <td>449.0</td>\n",
       "      <td>328.0</td>\n",
       "      <td>0.0</td>\n",
       "      <td>5196.0</td>\n",
       "      <td>4755.0</td>\n",
       "      <td>158.0</td>\n",
       "      <td>0.0</td>\n",
       "      <td>0.0</td>\n",
       "      <td>0.0</td>\n",
       "      <td>...</td>\n",
       "      <td>195.0</td>\n",
       "      <td>0.0</td>\n",
       "      <td>5890.0</td>\n",
       "      <td>16.0</td>\n",
       "      <td>NaN</td>\n",
       "      <td>5856.0</td>\n",
       "      <td>24934.0</td>\n",
       "      <td>24382.0</td>\n",
       "      <td>48.10</td>\n",
       "      <td>64.92</td>\n",
       "    </tr>\n",
       "    <tr>\n",
       "      <th>2</th>\n",
       "      <td>2015-01-01 01:00:00</td>\n",
       "      <td>448.0</td>\n",
       "      <td>323.0</td>\n",
       "      <td>0.0</td>\n",
       "      <td>4857.0</td>\n",
       "      <td>4581.0</td>\n",
       "      <td>157.0</td>\n",
       "      <td>0.0</td>\n",
       "      <td>0.0</td>\n",
       "      <td>0.0</td>\n",
       "      <td>...</td>\n",
       "      <td>196.0</td>\n",
       "      <td>0.0</td>\n",
       "      <td>5461.0</td>\n",
       "      <td>8.0</td>\n",
       "      <td>NaN</td>\n",
       "      <td>5454.0</td>\n",
       "      <td>23515.0</td>\n",
       "      <td>22734.0</td>\n",
       "      <td>47.33</td>\n",
       "      <td>64.48</td>\n",
       "    </tr>\n",
       "    <tr>\n",
       "      <th>3</th>\n",
       "      <td>2015-01-01 02:00:00</td>\n",
       "      <td>438.0</td>\n",
       "      <td>254.0</td>\n",
       "      <td>0.0</td>\n",
       "      <td>4314.0</td>\n",
       "      <td>4131.0</td>\n",
       "      <td>160.0</td>\n",
       "      <td>0.0</td>\n",
       "      <td>0.0</td>\n",
       "      <td>0.0</td>\n",
       "      <td>...</td>\n",
       "      <td>191.0</td>\n",
       "      <td>0.0</td>\n",
       "      <td>5238.0</td>\n",
       "      <td>2.0</td>\n",
       "      <td>NaN</td>\n",
       "      <td>5151.0</td>\n",
       "      <td>22642.0</td>\n",
       "      <td>21286.0</td>\n",
       "      <td>42.27</td>\n",
       "      <td>59.32</td>\n",
       "    </tr>\n",
       "    <tr>\n",
       "      <th>4</th>\n",
       "      <td>2015-01-01 03:00:00</td>\n",
       "      <td>428.0</td>\n",
       "      <td>187.0</td>\n",
       "      <td>0.0</td>\n",
       "      <td>4130.0</td>\n",
       "      <td>3840.0</td>\n",
       "      <td>156.0</td>\n",
       "      <td>0.0</td>\n",
       "      <td>0.0</td>\n",
       "      <td>0.0</td>\n",
       "      <td>...</td>\n",
       "      <td>189.0</td>\n",
       "      <td>0.0</td>\n",
       "      <td>4935.0</td>\n",
       "      <td>9.0</td>\n",
       "      <td>NaN</td>\n",
       "      <td>4861.0</td>\n",
       "      <td>21785.0</td>\n",
       "      <td>20264.0</td>\n",
       "      <td>38.41</td>\n",
       "      <td>56.04</td>\n",
       "    </tr>\n",
       "  </tbody>\n",
       "</table>\n",
       "<p>5 rows × 29 columns</p>\n",
       "</div>"
      ],
      "text/plain": [
       "component                time  generation biomass  \\\n",
       "0         2014-12-31 23:00:00               447.0   \n",
       "1         2015-01-01 00:00:00               449.0   \n",
       "2         2015-01-01 01:00:00               448.0   \n",
       "3         2015-01-01 02:00:00               438.0   \n",
       "4         2015-01-01 03:00:00               428.0   \n",
       "\n",
       "component  generation fossil brown coal/lignite  \\\n",
       "0                                         329.0   \n",
       "1                                         328.0   \n",
       "2                                         323.0   \n",
       "3                                         254.0   \n",
       "4                                         187.0   \n",
       "\n",
       "component  generation fossil coal-derived gas  generation fossil gas  \\\n",
       "0                                         0.0                 4844.0   \n",
       "1                                         0.0                 5196.0   \n",
       "2                                         0.0                 4857.0   \n",
       "3                                         0.0                 4314.0   \n",
       "4                                         0.0                 4130.0   \n",
       "\n",
       "component  generation fossil hard coal  generation fossil oil  \\\n",
       "0                               4821.0                  162.0   \n",
       "1                               4755.0                  158.0   \n",
       "2                               4581.0                  157.0   \n",
       "3                               4131.0                  160.0   \n",
       "4                               3840.0                  156.0   \n",
       "\n",
       "component  generation fossil oil shale  generation fossil peat  \\\n",
       "0                                  0.0                     0.0   \n",
       "1                                  0.0                     0.0   \n",
       "2                                  0.0                     0.0   \n",
       "3                                  0.0                     0.0   \n",
       "4                                  0.0                     0.0   \n",
       "\n",
       "component  generation geothermal  ...  generation waste  \\\n",
       "0                            0.0  ...             196.0   \n",
       "1                            0.0  ...             195.0   \n",
       "2                            0.0  ...             196.0   \n",
       "3                            0.0  ...             191.0   \n",
       "4                            0.0  ...             189.0   \n",
       "\n",
       "component  generation wind offshore  generation wind onshore  \\\n",
       "0                               0.0                   6378.0   \n",
       "1                               0.0                   5890.0   \n",
       "2                               0.0                   5461.0   \n",
       "3                               0.0                   5238.0   \n",
       "4                               0.0                   4935.0   \n",
       "\n",
       "component  forecast solar day ahead  forecast wind offshore eday ahead  \\\n",
       "0                              17.0                                NaN   \n",
       "1                              16.0                                NaN   \n",
       "2                               8.0                                NaN   \n",
       "3                               2.0                                NaN   \n",
       "4                               9.0                                NaN   \n",
       "\n",
       "component  forecast wind onshore day ahead  total load forecast  \\\n",
       "0                                   6436.0              26118.0   \n",
       "1                                   5856.0              24934.0   \n",
       "2                                   5454.0              23515.0   \n",
       "3                                   5151.0              22642.0   \n",
       "4                                   4861.0              21785.0   \n",
       "\n",
       "component  total load actual  price day ahead  price actual  \n",
       "0                    25385.0            50.10         65.41  \n",
       "1                    24382.0            48.10         64.92  \n",
       "2                    22734.0            47.33         64.48  \n",
       "3                    21286.0            42.27         59.32  \n",
       "4                    20264.0            38.41         56.04  \n",
       "\n",
       "[5 rows x 29 columns]"
      ]
     },
     "execution_count": 106,
     "metadata": {},
     "output_type": "execute_result"
    }
   ],
   "source": [
    "df.head()"
   ]
  },
  {
   "cell_type": "code",
   "execution_count": 16,
   "id": "fantastic-semester",
   "metadata": {},
   "outputs": [],
   "source": [
    "#fill missing and scaler\n",
    "filler = MissingValuesFiller()\n",
    "scaler = Scaler()\n",
    "series = scaler.fit_transform(\n",
    "    filler.transform(\n",
    "        TimeSeries.from_dataframe(\n",
    "            df, \"time\", [\"generation hydro run-of-river and poundage\"]\n",
    "        )\n",
    "    )\n",
    ").astype(np.float32)"
   ]
  },
  {
   "cell_type": "code",
   "execution_count": 28,
   "id": "north-chancellor",
   "metadata": {},
   "outputs": [],
   "source": [
    "train, val = series.split_after(pd.Timestamp(\"20170901\"))"
   ]
  },
  {
   "cell_type": "code",
   "execution_count": 29,
   "id": "federal-liberia",
   "metadata": {},
   "outputs": [
    {
     "data": {
      "text/plain": [
       "2000"
      ]
     },
     "execution_count": 29,
     "metadata": {},
     "output_type": "execute_result"
    }
   ],
   "source": [
    "len(train)\n",
    "# use less\n",
    "train = train[:2000]; val = val[:300];\n",
    "len(train)"
   ]
  },
  {
   "cell_type": "markdown",
   "id": "square-improvement",
   "metadata": {},
   "source": [
    "*Note*: N-BEATS is a univariate model architecture that offers two configurations: a generic one and a interpretable one. The generic architecture uses as little prior knowledge as possible, with no feature engineering, no scaling and no internal architectural components that may be considered time-series-specific. <br>\n",
    "To start off, we use a model with the generic architecture of N-BEATS:"
   ]
  },
  {
   "cell_type": "code",
   "execution_count": 30,
   "id": "golden-warning",
   "metadata": {},
   "outputs": [],
   "source": [
    "model_nbeats = NBEATSModel(\n",
    "    input_chunk_length=30,\n",
    "    output_chunk_length=7,\n",
    "    generic_architecture=True,\n",
    "    num_stacks=10,\n",
    "    num_blocks=1,\n",
    "    num_layers=4,\n",
    "    layer_widths=512,\n",
    "    n_epochs=10,\n",
    "    nr_epochs_val_period=1,\n",
    "    batch_size=800,\n",
    "    model_name=\"nbeats_run\",\n",
    ")"
   ]
  },
  {
   "cell_type": "code",
   "execution_count": 31,
   "id": "alpine-rating",
   "metadata": {},
   "outputs": [
    {
     "name": "stderr",
     "output_type": "stream",
     "text": [
      "[2022-01-13 12:53:39,837] INFO | darts.models.forecasting.torch_forecasting_model | Train dataset contains 1964 samples.\n",
      "[2022-01-13 12:53:39,837] INFO | darts.models.forecasting.torch_forecasting_model | Train dataset contains 1964 samples.\n",
      "[2022-01-13 12:53:39,875] INFO | darts.models.forecasting.torch_forecasting_model | Time series values are 32-bits; casting model to float32.\n",
      "[2022-01-13 12:53:39,875] INFO | darts.models.forecasting.torch_forecasting_model | Time series values are 32-bits; casting model to float32.\n"
     ]
    },
    {
     "data": {
      "application/vnd.jupyter.widget-view+json": {
       "model_id": "f986bd483d38443db1a2e3e4c0816f2c",
       "version_major": 2,
       "version_minor": 0
      },
      "text/plain": [
       "  0%|          | 0/10 [00:00<?, ?it/s]"
      ]
     },
     "metadata": {},
     "output_type": "display_data"
    },
    {
     "name": "stdout",
     "output_type": "stream",
     "text": [
      "Training loss: 0.0056, validation loss: 0.0045, best val loss: 0.0045\r"
     ]
    }
   ],
   "source": [
    "model_nbeats.fit(train, val_series=val, verbose=True)"
   ]
  },
  {
   "cell_type": "markdown",
   "id": "computational-license",
   "metadata": {},
   "source": [
    "Let's see the historical forecasts the model would have produced with an expanding training window, and a forecasting horizon of 7:"
   ]
  },
  {
   "cell_type": "code",
   "execution_count": 32,
   "id": "infectious-press",
   "metadata": {},
   "outputs": [
    {
     "data": {
      "application/vnd.jupyter.widget-view+json": {
       "model_id": "8c92086b5ace41f1ba7d64bbb0eb433f",
       "version_major": 2,
       "version_minor": 0
      },
      "text/plain": [
       "  0%|          | 0/2337 [00:00<?, ?it/s]"
      ]
     },
     "metadata": {},
     "output_type": "display_data"
    },
    {
     "data": {
      "image/png": "[encoded data removed]",
      "text/plain": [
       "<Figure size 576x360 with 1 Axes>"
      ]
     },
     "metadata": {
      "needs_background": "light"
     },
     "output_type": "display_data"
    }
   ],
   "source": [
    "pred_series = model_nbeats.historical_forecasts(\n",
    "    series,\n",
    "    start=pd.Timestamp(\"20170901\"),\n",
    "    forecast_horizon=7,\n",
    "    stride=5,\n",
    "    retrain=False,\n",
    "    verbose=True,\n",
    ")\n",
    "display_forecast(pred_series, series, \"7 day\", start_date=pd.Timestamp(\"20170901\"))"
   ]
  },
  {
   "cell_type": "markdown",
   "id": "communist-sense",
   "metadata": {},
   "source": [
    "Okay, lets try with crypto now"
   ]
  },
  {
   "cell_type": "code",
   "execution_count": null,
   "id": "prospective-support",
   "metadata": {},
   "outputs": [],
   "source": []
  },
  {
   "cell_type": "code",
   "execution_count": null,
   "id": "statistical-mechanism",
   "metadata": {},
   "outputs": [],
   "source": []
  },
  {
   "cell_type": "markdown",
   "id": "complicated-keeping",
   "metadata": {},
   "source": [
    "## NBEATS"
   ]
  },
  {
   "cell_type": "markdown",
   "id": "impressive-suspension",
   "metadata": {},
   "source": [
    "Note: darts supports multivariate series by flattening the model inputs to a 1-D series and reshaping the outputs to a tensor of appropriate dimensions. Furthermore, it also supports producing probabilistic forecasts"
   ]
  },
  {
   "cell_type": "code",
   "execution_count": null,
   "id": "sweet-fitness",
   "metadata": {},
   "outputs": [],
   "source": []
  },
  {
   "cell_type": "markdown",
   "id": "middle-clone",
   "metadata": {},
   "source": [
    "- input_chunk_length: this is the \"lookback window\" of the model - i.e., how many time steps of history the neural network takes as input to produce its output in a forward pass.\n",
    "- output_chunk_length: this is the \"forward window\" of the model - i.e., how many time steps of future values the neural network outputs in a forward pass."
   ]
  },
  {
   "cell_type": "code",
   "execution_count": 80,
   "id": "dressed-forty",
   "metadata": {},
   "outputs": [],
   "source": [
    "from darts.dataprocessing.transformers import Scaler"
   ]
  },
  {
   "cell_type": "code",
   "execution_count": 47,
   "id": "about-parent",
   "metadata": {},
   "outputs": [
    {
     "name": "stderr",
     "output_type": "stream",
     "text": [
      "[2022-01-13 13:02:01,097] ERROR | darts.timeseries | ValueError: Could not correctly fill missing dates with the observed/passed frequency freq='M'. Not all input time stamps contained in the newly created TimeSeries. For more information about frequency aliases, read https://pandas.pydata.org/pandas-docs/stable/user_guide/timeseries.html#offset-aliases\n"
     ]
    },
    {
     "ename": "ValueError",
     "evalue": "Could not correctly fill missing dates with the observed/passed frequency freq='M'. Not all input time stamps contained in the newly created TimeSeries. For more information about frequency aliases, read https://pandas.pydata.org/pandas-docs/stable/user_guide/timeseries.html#offset-aliases",
     "output_type": "error",
     "traceback": [
      "\u001b[0;31m---------------------------------------------------------------------------\u001b[0m",
      "\u001b[0;31mValueError\u001b[0m                                Traceback (most recent call last)",
      "\u001b[0;32m<ipython-input-47-7abd11884411>\u001b[0m in \u001b[0;36m<module>\u001b[0;34m\u001b[0m\n\u001b[0;32m----> 1\u001b[0;31m \u001b[0munivar_series\u001b[0m \u001b[0;34m=\u001b[0m \u001b[0mTimeSeries\u001b[0m\u001b[0;34m.\u001b[0m\u001b[0mfrom_dataframe\u001b[0m\u001b[0;34m(\u001b[0m\u001b[0mdf\u001b[0m\u001b[0;34m,\u001b[0m \u001b[0mfreq\u001b[0m\u001b[0;34m=\u001b[0m\u001b[0;34m'M'\u001b[0m\u001b[0;34m,\u001b[0m \u001b[0mtime_col\u001b[0m\u001b[0;34m=\u001b[0m\u001b[0;34m'time'\u001b[0m\u001b[0;34m,\u001b[0m \u001b[0mvalue_cols\u001b[0m\u001b[0;34m=\u001b[0m\u001b[0;34m'close'\u001b[0m\u001b[0;34m)\u001b[0m\u001b[0;34m\u001b[0m\u001b[0;34m\u001b[0m\u001b[0m\n\u001b[0m",
      "\u001b[0;32m~/miniconda3/envs/ai4f-37/lib/python3.7/site-packages/darts/timeseries.py\u001b[0m in \u001b[0;36mfrom_dataframe\u001b[0;34m(cls, df, time_col, value_cols, fill_missing_dates, freq, fillna_value)\u001b[0m\n\u001b[1;32m    458\u001b[0m             \u001b[0mfill_missing_dates\u001b[0m\u001b[0;34m=\u001b[0m\u001b[0mfill_missing_dates\u001b[0m\u001b[0;34m,\u001b[0m\u001b[0;34m\u001b[0m\u001b[0;34m\u001b[0m\u001b[0m\n\u001b[1;32m    459\u001b[0m             \u001b[0mfreq\u001b[0m\u001b[0;34m=\u001b[0m\u001b[0mfreq\u001b[0m\u001b[0;34m,\u001b[0m\u001b[0;34m\u001b[0m\u001b[0;34m\u001b[0m\u001b[0m\n\u001b[0;32m--> 460\u001b[0;31m             \u001b[0mfillna_value\u001b[0m\u001b[0;34m=\u001b[0m\u001b[0mfillna_value\u001b[0m\u001b[0;34m,\u001b[0m\u001b[0;34m\u001b[0m\u001b[0;34m\u001b[0m\u001b[0m\n\u001b[0m\u001b[1;32m    461\u001b[0m         )\n\u001b[1;32m    462\u001b[0m \u001b[0;34m\u001b[0m\u001b[0m\n",
      "\u001b[0;32m~/miniconda3/envs/ai4f-37/lib/python3.7/site-packages/darts/timeseries.py\u001b[0m in \u001b[0;36mfrom_xarray\u001b[0;34m(cls, xa, fill_missing_dates, freq, fillna_value)\u001b[0m\n\u001b[1;32m    241\u001b[0m         \u001b[0;31m# The provided index does not have a freq; using the provided freq\u001b[0m\u001b[0;34m\u001b[0m\u001b[0;34m\u001b[0m\u001b[0;34m\u001b[0m\u001b[0m\n\u001b[1;32m    242\u001b[0m         \u001b[0;32melif\u001b[0m \u001b[0mhas_datetime_index\u001b[0m \u001b[0;32mand\u001b[0m \u001b[0mfreq\u001b[0m \u001b[0;32mis\u001b[0m \u001b[0;32mnot\u001b[0m \u001b[0;32mNone\u001b[0m \u001b[0;32mand\u001b[0m \u001b[0;32mnot\u001b[0m \u001b[0mhas_frequency\u001b[0m\u001b[0;34m:\u001b[0m\u001b[0;34m\u001b[0m\u001b[0;34m\u001b[0m\u001b[0m\n\u001b[0;32m--> 243\u001b[0;31m             \u001b[0mxa_\u001b[0m \u001b[0;34m=\u001b[0m \u001b[0mcls\u001b[0m\u001b[0;34m.\u001b[0m\u001b[0m_restore_xarray_from_frequency\u001b[0m\u001b[0;34m(\u001b[0m\u001b[0mxa\u001b[0m\u001b[0;34m,\u001b[0m \u001b[0mfreq\u001b[0m\u001b[0;34m=\u001b[0m\u001b[0mfreq\u001b[0m\u001b[0;34m)\u001b[0m\u001b[0;34m\u001b[0m\u001b[0;34m\u001b[0m\u001b[0m\n\u001b[0m\u001b[1;32m    244\u001b[0m         \u001b[0;32melse\u001b[0m\u001b[0;34m:\u001b[0m\u001b[0;34m\u001b[0m\u001b[0;34m\u001b[0m\u001b[0m\n\u001b[1;32m    245\u001b[0m             \u001b[0mxa_\u001b[0m \u001b[0;34m=\u001b[0m \u001b[0mxa\u001b[0m\u001b[0;34m\u001b[0m\u001b[0;34m\u001b[0m\u001b[0m\n",
      "\u001b[0;32m~/miniconda3/envs/ai4f-37/lib/python3.7/site-packages/darts/timeseries.py\u001b[0m in \u001b[0;36m_restore_xarray_from_frequency\u001b[0;34m(xa, freq)\u001b[0m\n\u001b[1;32m   2686\u001b[0m             \u001b[0;34mf\"Could not correctly fill missing dates with the observed/passed frequency freq='{freq}'. \"\u001b[0m\u001b[0;34m\u001b[0m\u001b[0;34m\u001b[0m\u001b[0m\n\u001b[1;32m   2687\u001b[0m             \u001b[0;34mf\"Not all input time stamps contained in the newly created TimeSeries. {offset_alias_info}\"\u001b[0m\u001b[0;34m,\u001b[0m\u001b[0;34m\u001b[0m\u001b[0;34m\u001b[0m\u001b[0m\n\u001b[0;32m-> 2688\u001b[0;31m             \u001b[0mlogger\u001b[0m\u001b[0;34m,\u001b[0m\u001b[0;34m\u001b[0m\u001b[0;34m\u001b[0m\u001b[0m\n\u001b[0m\u001b[1;32m   2689\u001b[0m         )\n\u001b[1;32m   2690\u001b[0m \u001b[0;34m\u001b[0m\u001b[0m\n",
      "\u001b[0;32m~/miniconda3/envs/ai4f-37/lib/python3.7/site-packages/darts/logging.py\u001b[0m in \u001b[0;36mraise_if_not\u001b[0;34m(condition, message, logger)\u001b[0m\n\u001b[1;32m     58\u001b[0m     \u001b[0;32mif\u001b[0m \u001b[0;32mnot\u001b[0m \u001b[0mcondition\u001b[0m\u001b[0;34m:\u001b[0m\u001b[0;34m\u001b[0m\u001b[0;34m\u001b[0m\u001b[0m\n\u001b[1;32m     59\u001b[0m         \u001b[0mlogger\u001b[0m\u001b[0;34m.\u001b[0m\u001b[0merror\u001b[0m\u001b[0;34m(\u001b[0m\u001b[0;34m\"ValueError: \"\u001b[0m \u001b[0;34m+\u001b[0m \u001b[0mmessage\u001b[0m\u001b[0;34m)\u001b[0m\u001b[0;34m\u001b[0m\u001b[0;34m\u001b[0m\u001b[0m\n\u001b[0;32m---> 60\u001b[0;31m         \u001b[0;32mraise\u001b[0m \u001b[0mValueError\u001b[0m\u001b[0;34m(\u001b[0m\u001b[0mmessage\u001b[0m\u001b[0;34m)\u001b[0m\u001b[0;34m\u001b[0m\u001b[0;34m\u001b[0m\u001b[0m\n\u001b[0m\u001b[1;32m     61\u001b[0m \u001b[0;34m\u001b[0m\u001b[0m\n\u001b[1;32m     62\u001b[0m \u001b[0;34m\u001b[0m\u001b[0m\n",
      "\u001b[0;31mValueError\u001b[0m: Could not correctly fill missing dates with the observed/passed frequency freq='M'. Not all input time stamps contained in the newly created TimeSeries. For more information about frequency aliases, read https://pandas.pydata.org/pandas-docs/stable/user_guide/timeseries.html#offset-aliases"
     ]
    }
   ],
   "source": [
    "univar_series = TimeSeries.from_dataframe(df, freq='M', time_col='time', value_cols='close')"
   ]
  },
  {
   "cell_type": "code",
   "execution_count": 46,
   "id": "stuffed-reflection",
   "metadata": {},
   "outputs": [
    {
     "data": {
      "image/png": "[encoded data removed]",
      "text/plain": [
       "<Figure size 432x288 with 1 Axes>"
      ]
     },
     "metadata": {
      "needs_background": "light"
     },
     "output_type": "display_data"
    }
   ],
   "source": [
    "univar_series.plot()"
   ]
  },
  {
   "cell_type": "code",
   "execution_count": null,
   "id": "elect-colleague",
   "metadata": {},
   "outputs": [],
   "source": []
  },
  {
   "cell_type": "code",
   "execution_count": null,
   "id": "agreed-therapist",
   "metadata": {},
   "outputs": [],
   "source": []
  },
  {
   "cell_type": "code",
   "execution_count": null,
   "id": "reverse-prerequisite",
   "metadata": {},
   "outputs": [],
   "source": []
  },
  {
   "cell_type": "code",
   "execution_count": 35,
   "id": "fancy-logan",
   "metadata": {},
   "outputs": [
    {
     "ename": "NameError",
     "evalue": "name 'uni_tr' is not defined",
     "output_type": "error",
     "traceback": [
      "\u001b[0;31m---------------------------------------------------------------------------\u001b[0m",
      "\u001b[0;31mNameError\u001b[0m                                 Traceback (most recent call last)",
      "\u001b[0;32m<ipython-input-35-8c3cbee3e937>\u001b[0m in \u001b[0;36m<module>\u001b[0;34m\u001b[0m\n\u001b[0;32m----> 1\u001b[0;31m \u001b[0muni_tr\u001b[0m\u001b[0;34m.\u001b[0m\u001b[0mplot\u001b[0m\u001b[0;34m(\u001b[0m\u001b[0;34m)\u001b[0m\u001b[0;34m\u001b[0m\u001b[0;34m\u001b[0m\u001b[0m\n\u001b[0m",
      "\u001b[0;31mNameError\u001b[0m: name 'uni_tr' is not defined"
     ]
    }
   ],
   "source": [
    "uni_tr.plot()"
   ]
  },
  {
   "cell_type": "code",
   "execution_count": 83,
   "id": "industrial-height",
   "metadata": {},
   "outputs": [],
   "source": [
    "scaler = Scaler()\n",
    "tr_scaled = scaler.fit_transform([tr])"
   ]
  },
  {
   "cell_type": "code",
   "execution_count": null,
   "id": "reduced-athletics",
   "metadata": {},
   "outputs": [],
   "source": []
  },
  {
   "cell_type": "code",
   "execution_count": 85,
   "id": "developed-turkish",
   "metadata": {
    "scrolled": true
   },
   "outputs": [
    {
     "ename": "AttributeError",
     "evalue": "'list' object has no attribute 'plot'",
     "output_type": "error",
     "traceback": [
      "\u001b[0;31m---------------------------------------------------------------------------\u001b[0m",
      "\u001b[0;31mAttributeError\u001b[0m                            Traceback (most recent call last)",
      "\u001b[0;32m<ipython-input-85-c8d07238b4e5>\u001b[0m in \u001b[0;36m<module>\u001b[0;34m\u001b[0m\n\u001b[0;32m----> 1\u001b[0;31m \u001b[0mtr_scaled\u001b[0m\u001b[0;34m.\u001b[0m\u001b[0mplot\u001b[0m\u001b[0;34m(\u001b[0m\u001b[0;34m)\u001b[0m\u001b[0;34m\u001b[0m\u001b[0;34m\u001b[0m\u001b[0m\n\u001b[0m",
      "\u001b[0;31mAttributeError\u001b[0m: 'list' object has no attribute 'plot'"
     ]
    }
   ],
   "source": [
    "tr_scaled.plot()"
   ]
  },
  {
   "cell_type": "code",
   "execution_count": 78,
   "id": "guilty-biodiversity",
   "metadata": {},
   "outputs": [],
   "source": [
    "from darts.models import NBEATSModel\n",
    "\n",
    "#\n",
    "\n",
    "model = NBEATSModel(input_chunk_length=24,\n",
    "                    output_chunk_length=12,\n",
    "                    random_state=42)"
   ]
  },
  {
   "cell_type": "code",
   "execution_count": null,
   "id": "specified-immigration",
   "metadata": {},
   "outputs": [],
   "source": []
  },
  {
   "cell_type": "markdown",
   "id": "innovative-dallas",
   "metadata": {},
   "source": [
    "### Exponential Smoothing (non-global forecasting model)"
   ]
  },
  {
   "cell_type": "code",
   "execution_count": 69,
   "id": "electoral-chain",
   "metadata": {},
   "outputs": [],
   "source": [
    "df.time.freq = 'T'"
   ]
  },
  {
   "cell_type": "code",
   "execution_count": 73,
   "id": "challenging-beauty",
   "metadata": {},
   "outputs": [],
   "source": [
    "univar_series = TimeSeries.from_dataframe(df, freq='1T', time_col='time', value_cols='close')"
   ]
  },
  {
   "cell_type": "code",
   "execution_count": 102,
   "id": "traditional-dietary",
   "metadata": {},
   "outputs": [],
   "source": [
    "uni_tr, uni_val = train_val_split(univar_series)"
   ]
  },
  {
   "cell_type": "code",
   "execution_count": 105,
   "id": "mysterious-centre",
   "metadata": {},
   "outputs": [
    {
     "name": "stderr",
     "output_type": "stream",
     "text": [
      "/home/m73/miniconda3/envs/ai4f-37/lib/python3.7/site-packages/statsmodels/tsa/holtwinters/model.py:917: ConvergenceWarning: Optimization failed to converge. Check mle_retvals.\n",
      "  ConvergenceWarning,\n"
     ]
    }
   ],
   "source": [
    "from darts.models import ExponentialSmoothing\n",
    "#https://giters.com/unit8co/darts/issues/552 Super useful\n",
    "from darts.utils.utils import SeasonalityMode\n",
    "\n",
    "model = ExponentialSmoothing(seasonal=SeasonalityMode.NONE)\n",
    "model.fit(uni_tr)\n",
    "pred = model.predict(5)\n",
    "#prediction = model.predict(len(uni_val), num_samples=1000)"
   ]
  },
  {
   "cell_type": "code",
   "execution_count": 106,
   "id": "romance-cartoon",
   "metadata": {},
   "outputs": [
    {
     "ename": "NameError",
     "evalue": "name 'plt' is not defined",
     "output_type": "error",
     "traceback": [
      "\u001b[0;31m---------------------------------------------------------------------------\u001b[0m",
      "\u001b[0;31mNameError\u001b[0m                                 Traceback (most recent call last)",
      "\u001b[0;32m<ipython-input-106-bf330bceac3b>\u001b[0m in \u001b[0;36m<module>\u001b[0;34m\u001b[0m\n\u001b[1;32m      1\u001b[0m \u001b[0munivar_series\u001b[0m\u001b[0;34m.\u001b[0m\u001b[0mplot\u001b[0m\u001b[0;34m(\u001b[0m\u001b[0mlabel\u001b[0m\u001b[0;34m=\u001b[0m\u001b[0;34m'past target'\u001b[0m\u001b[0;34m)\u001b[0m\u001b[0;34m\u001b[0m\u001b[0;34m\u001b[0m\u001b[0m\n\u001b[1;32m      2\u001b[0m \u001b[0mpred\u001b[0m\u001b[0;34m.\u001b[0m\u001b[0mplot\u001b[0m\u001b[0;34m(\u001b[0m\u001b[0mlabel\u001b[0m\u001b[0;34m=\u001b[0m\u001b[0;34m'prediction'\u001b[0m\u001b[0;34m)\u001b[0m\u001b[0;34m\u001b[0m\u001b[0;34m\u001b[0m\u001b[0m\n\u001b[0;32m----> 3\u001b[0;31m \u001b[0mplt\u001b[0m\u001b[0;34m.\u001b[0m\u001b[0mshow\u001b[0m\u001b[0;34m(\u001b[0m\u001b[0;34m)\u001b[0m\u001b[0;34m\u001b[0m\u001b[0;34m\u001b[0m\u001b[0m\n\u001b[0m",
      "\u001b[0;31mNameError\u001b[0m: name 'plt' is not defined"
     ]
    },
    {
     "data": {
      "image/png": "[encoded data removed]",
      "text/plain": [
       "<Figure size 432x288 with 1 Axes>"
      ]
     },
     "metadata": {
      "needs_background": "light"
     },
     "output_type": "display_data"
    }
   ],
   "source": [
    "univar_series.plot(label='past target')\n",
    "pred.plot(label='prediction')\n",
    "plt.show()"
   ]
  },
  {
   "cell_type": "code",
   "execution_count": null,
   "id": "domestic-lyric",
   "metadata": {},
   "outputs": [],
   "source": []
  },
  {
   "cell_type": "code",
   "execution_count": null,
   "id": "established-strip",
   "metadata": {},
   "outputs": [],
   "source": []
  },
  {
   "cell_type": "code",
   "execution_count": null,
   "id": "broadband-trouble",
   "metadata": {},
   "outputs": [],
   "source": []
  },
  {
   "cell_type": "code",
   "execution_count": null,
   "id": "visible-logistics",
   "metadata": {},
   "outputs": [],
   "source": []
  },
  {
   "cell_type": "code",
   "execution_count": null,
   "id": "large-macro",
   "metadata": {},
   "outputs": [],
   "source": []
  },
  {
   "cell_type": "code",
   "execution_count": null,
   "id": "incident-chinese",
   "metadata": {},
   "outputs": [],
   "source": []
  },
  {
   "cell_type": "code",
   "execution_count": null,
   "id": "virtual-pharmacy",
   "metadata": {},
   "outputs": [],
   "source": []
  },
  {
   "cell_type": "code",
   "execution_count": null,
   "id": "growing-pepper",
   "metadata": {},
   "outputs": [],
   "source": []
  },
  {
   "cell_type": "code",
   "execution_count": null,
   "id": "uniform-terrace",
   "metadata": {},
   "outputs": [],
   "source": []
  },
  {
   "cell_type": "code",
   "execution_count": 108,
   "id": "studied-runner",
   "metadata": {},
   "outputs": [
    {
     "ename": "TypeError",
     "evalue": "datetime_attribute_timeseries() got an unexpected keyword argument 'length'",
     "output_type": "error",
     "traceback": [
      "\u001b[0;31m---------------------------------------------------------------------------\u001b[0m",
      "\u001b[0;31mTypeError\u001b[0m                                 Traceback (most recent call last)",
      "\u001b[0;32m<ipython-input-108-75a499679b64>\u001b[0m in \u001b[0;36m<module>\u001b[0;34m\u001b[0m\n\u001b[1;32m      6\u001b[0m \u001b[0;34m\u001b[0m\u001b[0m\n\u001b[1;32m      7\u001b[0m \u001b[0;34m\u001b[0m\u001b[0m\n\u001b[0;32m----> 8\u001b[0;31m \u001b[0mseries\u001b[0m \u001b[0;34m=\u001b[0m \u001b[0mtsg\u001b[0m\u001b[0;34m.\u001b[0m\u001b[0mdatetime_attribute_timeseries\u001b[0m\u001b[0;34m(\u001b[0m\u001b[0mlength\u001b[0m\u001b[0;34m=\u001b[0m\u001b[0;36m10\u001b[0m\u001b[0;34m,\u001b[0m \u001b[0mfreq\u001b[0m\u001b[0;34m=\u001b[0m\u001b[0;34m'T'\u001b[0m\u001b[0;34m)\u001b[0m\u001b[0;34m\u001b[0m\u001b[0;34m\u001b[0m\u001b[0m\n\u001b[0m\u001b[1;32m      9\u001b[0m \u001b[0mseries\u001b[0m\u001b[0;34m.\u001b[0m\u001b[0mto_csv\u001b[0m\u001b[0;34m(\u001b[0m\u001b[0;34m'5_minute_data.csv'\u001b[0m\u001b[0;34m)\u001b[0m\u001b[0;34m\u001b[0m\u001b[0;34m\u001b[0m\u001b[0m\n\u001b[1;32m     10\u001b[0m \u001b[0;34m\u001b[0m\u001b[0m\n",
      "\u001b[0;31mTypeError\u001b[0m: datetime_attribute_timeseries() got an unexpected keyword argument 'length'"
     ]
    }
   ],
   "source": [
    "from darts import TimeSeries\n",
    "from darts.models import ExponentialSmoothing\n",
    "from darts.utils import timeseries_generation as tsg\n",
    "from darts.utils.utils import SeasonalityMode\n",
    "from matplotlib import pyplot as plt\n",
    "\n",
    "\n",
    "series = tsg.datetime_attribute_timeseries(length=10, freq='T')\n",
    "series.to_csv('5_minute_data.csv')\n",
    "\n",
    "series_from_csv = TimeSeries.from_csv('5_minute_data.csv', time_col='time')\n",
    "\n",
    "model = ExponentialSmoothing(seasonal=SeasonalityMode.NONE)\n",
    "model.fit(series_from_csv)\n",
    "\n",
    "pred = model.predict(5)\n",
    "\n",
    "series_from_csv.plot(label='past target')\n",
    "pred.plot(label='prediction')\n",
    "plt.show()"
   ]
  },
  {
   "cell_type": "code",
   "execution_count": null,
   "id": "chinese-model",
   "metadata": {},
   "outputs": [],
   "source": []
  },
  {
   "cell_type": "code",
   "execution_count": null,
   "id": "prescription-genesis",
   "metadata": {},
   "outputs": [],
   "source": []
  }
 ],
 "metadata": {
  "kernelspec": {
   "display_name": "Python 3.7.11 64-bit ('ai4f-37': conda)",
   "language": "python",
   "name": "python3711jvsc74a57bd08c729128d666867b802cb27fd5ddd424532f3e31cf3dcb5e7d9817983d852fac"
  },
  "language_info": {
   "codemirror_mode": {
    "name": "ipython",
    "version": 3
   },
   "file_extension": ".py",
   "mimetype": "text/x-python",
   "name": "python",
   "nbconvert_exporter": "python",
   "pygments_lexer": "ipython3",
   "version": "3.7.11"
  }
 },
 "nbformat": 4,
 "nbformat_minor": 5
}
