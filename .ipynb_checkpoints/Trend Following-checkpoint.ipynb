{
 "cells": [
  {
   "cell_type": "markdown",
   "id": "71c33ad0-d86b-482c-aff3-f90b046badf7",
   "metadata": {},
   "source": [
    "# Trend Following"
   ]
  },
  {
   "cell_type": "code",
   "execution_count": null,
   "id": "8b2403d5-05a5-4a64-8adf-e3b296f08806",
   "metadata": {},
   "outputs": [],
   "source": []
  }
 ],
 "metadata": {
  "kernelspec": {
   "display_name": "ml38",
   "language": "python",
   "name": "ml38"
  },
  "language_info": {
   "codemirror_mode": {
    "name": "ipython",
    "version": 3
   },
   "file_extension": ".py",
   "mimetype": "text/x-python",
   "name": "python",
   "nbconvert_exporter": "python",
   "pygments_lexer": "ipython3",
   "version": "3.8.5"
  }
 },
 "nbformat": 4,
 "nbformat_minor": 5
}
