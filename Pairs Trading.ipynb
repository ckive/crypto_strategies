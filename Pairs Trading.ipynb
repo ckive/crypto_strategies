{
 "cells": [
  {
   "cell_type": "markdown",
   "id": "reserved-version",
   "metadata": {},
   "source": [
    "collection here: https://github.com/financialnoob/pairs_trading"
   ]
  },
  {
   "cell_type": "code",
   "execution_count": null,
   "id": "promotional-activation",
   "metadata": {},
   "outputs": [],
   "source": []
  }
 ],
 "metadata": {
  "kernelspec": {
   "display_name": "Python 3.7.11 64-bit ('ai4f-37': conda)",
   "language": "python",
   "name": "python3711jvsc74a57bd08c729128d666867b802cb27fd5ddd424532f3e31cf3dcb5e7d9817983d852fac"
  },
  "language_info": {
   "codemirror_mode": {
    "name": "ipython",
    "version": 3
   },
   "file_extension": ".py",
   "mimetype": "text/x-python",
   "name": "python",
   "nbconvert_exporter": "python",
   "pygments_lexer": "ipython3",
   "version": "3.7.11"
  }
 },
 "nbformat": 4,
 "nbformat_minor": 5
}
