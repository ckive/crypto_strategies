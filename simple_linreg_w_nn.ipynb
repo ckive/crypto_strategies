{
 "cells": [
  {
   "cell_type": "markdown",
   "id": "d258c723-cc15-46c1-b987-6845f28c408d",
   "metadata": {},
   "source": [
    "# Regression with NN pytorch\n",
    "based off of [here](https://medium.com/@benjamin.phillips22/simple-regression-with-neural-networks-in-pytorch-313f06910379)"
   ]
  },
  {
   "cell_type": "code",
   "execution_count": 1,
   "id": "1f1c1e4f-284d-4666-9ee8-75304720b9f4",
   "metadata": {},
   "outputs": [
    {
     "ename": "ValueError",
     "evalue": "numpy.ndarray size changed, may indicate binary incompatibility. Expected 96 from C header, got 88 from PyObject",
     "output_type": "error",
     "traceback": [
      "\u001b[0;31m---------------------------------------------------------------------------\u001b[0m",
      "\u001b[0;31mValueError\u001b[0m                                Traceback (most recent call last)",
      "\u001b[0;32m<ipython-input-1-c3706db8d6a0>\u001b[0m in \u001b[0;36m<module>\u001b[0;34m\u001b[0m\n\u001b[1;32m     10\u001b[0m \u001b[0;32mimport\u001b[0m \u001b[0mimageio\u001b[0m\u001b[0;34m\u001b[0m\u001b[0;34m\u001b[0m\u001b[0m\n\u001b[1;32m     11\u001b[0m \u001b[0;34m\u001b[0m\u001b[0m\n\u001b[0;32m---> 12\u001b[0;31m \u001b[0;32mfrom\u001b[0m \u001b[0mtalib\u001b[0m\u001b[0;34m.\u001b[0m\u001b[0mabstract\u001b[0m \u001b[0;32mimport\u001b[0m \u001b[0mMACD\u001b[0m\u001b[0;34m,\u001b[0m \u001b[0mRSI\u001b[0m \u001b[0;31m#CCI, DX,\u001b[0m\u001b[0;34m\u001b[0m\u001b[0;34m\u001b[0m\u001b[0m\n\u001b[0m",
      "\u001b[0;32m~/miniconda3/envs/ml38/lib/python3.8/site-packages/talib/__init__.py\u001b[0m in \u001b[0;36m<module>\u001b[0;34m\u001b[0m\n\u001b[1;32m     91\u001b[0m \u001b[0;34m\u001b[0m\u001b[0m\n\u001b[1;32m     92\u001b[0m \u001b[0;34m\u001b[0m\u001b[0m\n\u001b[0;32m---> 93\u001b[0;31m from ._ta_lib import (\n\u001b[0m\u001b[1;32m     94\u001b[0m     \u001b[0m_ta_initialize\u001b[0m\u001b[0;34m,\u001b[0m \u001b[0m_ta_shutdown\u001b[0m\u001b[0;34m,\u001b[0m \u001b[0mMA_Type\u001b[0m\u001b[0;34m,\u001b[0m \u001b[0m__ta_version__\u001b[0m\u001b[0;34m,\u001b[0m\u001b[0;34m\u001b[0m\u001b[0;34m\u001b[0m\u001b[0m\n\u001b[1;32m     95\u001b[0m     \u001b[0m_ta_set_unstable_period\u001b[0m \u001b[0;32mas\u001b[0m \u001b[0mset_unstable_period\u001b[0m\u001b[0;34m,\u001b[0m\u001b[0;34m\u001b[0m\u001b[0;34m\u001b[0m\u001b[0m\n",
      "\u001b[0;32mtalib/_ta_lib.pyx\u001b[0m in \u001b[0;36minit talib._ta_lib\u001b[0;34m()\u001b[0m\n",
      "\u001b[0;31mValueError\u001b[0m: numpy.ndarray size changed, may indicate binary incompatibility. Expected 96 from C header, got 88 from PyObject"
     ]
    }
   ],
   "source": [
    "import torch\n",
    "from torch.autograd import Variable\n",
    "import torch.nn.functional as F\n",
    "import torch.utils.data as Data\n",
    "\n",
    "import matplotlib.pyplot as plt\n",
    "%matplotlib inline\n",
    "\n",
    "import numpy as np\n",
    "import imageio\n",
    "\n",
    "from talib.abstract import MACD, RSI #CCI, DX, "
   ]
  },
  {
   "cell_type": "code",
   "execution_count": null,
   "id": "f9dccbe6-5ee1-431c-a856-9e8ccd835ad5",
   "metadata": {},
   "outputs": [],
   "source": [
    "from cpl.data.processor_binance import BinanceProcessor"
   ]
  },
  {
   "cell_type": "code",
   "execution_count": null,
   "id": "5314b5a4-6026-4f6d-9a38-4b11e56bc4ac",
   "metadata": {},
   "outputs": [],
   "source": [
    "ticker_list = [\"BTCUSDT\",\"ETHUSDT\"]\n",
    "start_date = \"2021-12-01\"\n",
    "end_date = \"2021-12-15\"\n",
    "time_interval = \"1m\"\n",
    "tech_inds = ['rsi','macd']"
   ]
  },
  {
   "cell_type": "code",
   "execution_count": null,
   "id": "5c0091f8-07db-4ec7-b85d-b7b56c71efc2",
   "metadata": {},
   "outputs": [],
   "source": [
    "p = BinanceProcessor(\"binance\")\n",
    "df = p.download_data(ticker_list, start_date, end_date, time_interval)\n",
    "df = p.add_technical_indicator(df, tech_inds)"
   ]
  },
  {
   "cell_type": "code",
   "execution_count": null,
   "id": "12d6b76d-90ae-4a75-86cb-066f6fae18b9",
   "metadata": {},
   "outputs": [],
   "source": [
    "df.head()"
   ]
  },
  {
   "cell_type": "code",
   "execution_count": null,
   "id": "8b982142-6df2-402c-8fde-37ce064f410f",
   "metadata": {},
   "outputs": [],
   "source": [
    "btc_df = df[df.tic==\"BTCUSDT\"][[\"open\",\"high\",\"low\",\"close\",\"volume\",\"rsi\",\"macd\"]]"
   ]
  },
  {
   "cell_type": "code",
   "execution_count": null,
   "id": "9631de75-9752-4735-894e-f479f350b898",
   "metadata": {},
   "outputs": [],
   "source": [
    "btc_df.head(20)"
   ]
  },
  {
   "cell_type": "code",
   "execution_count": null,
   "id": "b8d681d9-72a0-4752-8367-5b961d655c91",
   "metadata": {},
   "outputs": [],
   "source": [
    "# using open, high, close, vol, rsi, macd\n",
    "# shape=(N, \n",
    "df"
   ]
  },
  {
   "cell_type": "code",
   "execution_count": null,
   "id": "e1134433-9dc4-47e1-b9dd-09138b45ed69",
   "metadata": {},
   "outputs": [],
   "source": [
    "torch.manual_seed(1)    # reproducible\n",
    "\n",
    "x = torch.unsqueeze(torch.linspace(-10, 10, 1000), dim=1)  # x data (tensor), shape=(100, 1)\n",
    "y = torch.sin(x) + 0.2*torch.rand(x.size())                 # noisy y data (tensor), shape=(100, 1)\n",
    "\n",
    "# torch can only train on Variable, so convert them to Variable\n",
    "x, y = Variable(x), Variable(y)\n",
    "plt.figure(figsize=(10,4))\n",
    "plt.scatter(x.data.numpy(), y.data.numpy(), color = \"blue\")\n",
    "plt.title('Regression Analysis')\n",
    "plt.xlabel('Independent varible')\n",
    "plt.ylabel('Dependent varible')\n",
    "plt.savefig('curve_2.png')\n",
    "plt.show()\n",
    "\n",
    "# another way to define a network\n",
    "net = torch.nn.Sequential(\n",
    "        torch.nn.Linear(1, 200),\n",
    "        torch.nn.LeakyReLU(),\n",
    "        torch.nn.Linear(200, 100),\n",
    "        torch.nn.LeakyReLU(),\n",
    "        torch.nn.Linear(100, 1),\n",
    "    )\n",
    "\n",
    "optimizer = torch.optim.Adam(net.parameters(), lr=0.01)\n",
    "loss_func = torch.nn.MSELoss()  # this is for regression mean squared loss\n",
    "\n",
    "BATCH_SIZE = 64\n",
    "EPOCH = 200\n",
    "\n",
    "torch_dataset = Data.TensorDataset(x, y)\n",
    "\n",
    "loader = Data.DataLoader(\n",
    "    dataset=torch_dataset, \n",
    "    batch_size=BATCH_SIZE, \n",
    "    shuffle=True, num_workers=2,)\n",
    "\n",
    "my_images = []\n",
    "fig, ax = plt.subplots(figsize=(16,10))\n",
    "\n",
    "# start training\n",
    "for epoch in range(EPOCH):\n",
    "    for step, (batch_x, batch_y) in enumerate(loader): # for each training step\n",
    "        \n",
    "        b_x = Variable(batch_x)\n",
    "        b_y = Variable(batch_y)\n",
    "\n",
    "        prediction = net(b_x)     # input x and predict based on x\n",
    "\n",
    "        loss = loss_func(prediction, b_y)     # must be (1. nn output, 2. target)\n",
    "\n",
    "        optimizer.zero_grad()   # clear gradients for next train\n",
    "        loss.backward()         # backpropagation, compute gradients\n",
    "        optimizer.step()        # apply gradients\n",
    "\n",
    "        if step == 1:\n",
    "            # plot and show learning process\n",
    "            plt.cla()\n",
    "            ax.set_title('Regression Analysis - model 3 Batches', fontsize=35)\n",
    "            ax.set_xlabel('Independent variable', fontsize=24)\n",
    "            ax.set_ylabel('Dependent variable', fontsize=24)\n",
    "            ax.set_xlim(-11.0, 13.0)\n",
    "            ax.set_ylim(-1.1, 1.2)\n",
    "            ax.scatter(b_x.data.numpy(), b_y.data.numpy(), color = \"blue\", alpha=0.2)\n",
    "            ax.scatter(b_x.data.numpy(), prediction.data.numpy(), color='green', alpha=0.5)\n",
    "            ax.text(8.8, -0.8, 'Epoch = %d' % epoch,\n",
    "                    fontdict={'size': 24, 'color':  'red'})\n",
    "            ax.text(8.8, -0.95, 'Loss = %.4f' % loss.data.numpy(),\n",
    "                    fontdict={'size': 24, 'color':  'red'})\n",
    "\n",
    "            # Used to return the plot as an image array \n",
    "            # (https://ndres.me/post/matplotlib-animated-gifs-easily/)\n",
    "            fig.canvas.draw()       # draw the canvas, cache the renderer\n",
    "            image = np.frombuffer(fig.canvas.tostring_rgb(), dtype='uint8')\n",
    "            image  = image.reshape(fig.canvas.get_width_height()[::-1] + (3,))\n",
    "\n",
    "            my_images.append(image)\n",
    "\n",
    "    \n",
    "\n",
    "\n",
    "# save images as a gif    \n",
    "imageio.mimsave('./curve_2_model_3_batch.gif', my_images, fps=12)\n",
    "\n",
    "\n",
    "fig, ax = plt.subplots(figsize=(16,10))\n",
    "plt.cla()\n",
    "ax.set_title('Regression Analysis - model 3, Batches', fontsize=35)\n",
    "ax.set_xlabel('Independent variable', fontsize=24)\n",
    "ax.set_ylabel('Dependent variable', fontsize=24)\n",
    "ax.set_xlim(-11.0, 13.0)\n",
    "ax.set_ylim(-1.1, 1.2)\n",
    "ax.scatter(x.data.numpy(), y.data.numpy(), color = \"blue\", alpha=0.2)\n",
    "prediction = net(x)     # input x and predict based on x\n",
    "ax.scatter(x.data.numpy(), prediction.data.numpy(), color='green', alpha=0.5)\n",
    "plt.savefig('curve_2_model_3_batches.png')\n",
    "plt.show()"
   ]
  },
  {
   "cell_type": "code",
   "execution_count": null,
   "id": "6d27bbd7-a6a9-4ac7-a2e7-6f11fb53da6c",
   "metadata": {},
   "outputs": [],
   "source": []
  }
 ],
 "metadata": {
  "kernelspec": {
   "display_name": "ml38",
   "language": "python",
   "name": "ml38"
  },
  "language_info": {
   "codemirror_mode": {
    "name": "ipython",
    "version": 3
   },
   "file_extension": ".py",
   "mimetype": "text/x-python",
   "name": "python",
   "nbconvert_exporter": "python",
   "pygments_lexer": "ipython3",
   "version": "3.8.5"
  }
 },
 "nbformat": 4,
 "nbformat_minor": 5
}
