{
 "cells": [
  {
   "cell_type": "markdown",
   "id": "73b69a5e-40c6-4161-862d-ed19a14adf0b",
   "metadata": {},
   "source": [
    "# 3 Sigmas\n",
    "1 min interval data with MA(30). \n"
   ]
  },
  {
   "cell_type": "code",
   "execution_count": 1,
   "id": "d9d43876-5256-4683-809e-9f7c2aacfecb",
   "metadata": {},
   "outputs": [],
   "source": [
    "TICKER_LIST = ['BTCUSDT','ETHUSDT','ADAUSDT','BNBUSDT','XRPUSDT','DOTUSDT','DOGEUSDT','LTCUSDT','BCHUSDT']\n",
    "TRAIN_START_DATE = '2021-08-01'\n",
    "TRAIN_END_DATE = '2021-08-31'\n",
    "TEST_START_DATE = '2021-09-01'\n",
    "TEST_END_DATE = '2021-12-31'\n",
    "DATA_TIME_INTERVAL = '1m'\n",
    "TECHNICAL_INDICATORS_LIST = []"
   ]
  },
  {
   "cell_type": "code",
   "execution_count": 2,
   "id": "470610db-c649-4293-a2b8-5b0174e32f91",
   "metadata": {},
   "outputs": [
    {
     "name": "stdout",
     "output_type": "stream",
     "text": [
      "Binance successfully connected\n",
      "Succesfully add technical indicators\n"
     ]
    }
   ],
   "source": [
    "#load data\n",
    "from cpl.data.processor_binance import BinanceProcessor\n",
    "from cpl.data.data_processor import DataProcessor\n",
    "DP = DataProcessor(\"binance\")\n",
    "price_array, tech_array, turbulence_array = DP.run(TICKER_LIST, TRAIN_START_DATE\n",
    "                                                       , TRAIN_END_DATE, DATA_TIME_INTERVAL, \n",
    "                                                       TECHNICAL_INDICATORS_LIST, \n",
    "                                                       if_vix=False)"
   ]
  },
  {
   "cell_type": "code",
   "execution_count": 17,
   "id": "588a1d63-b9e8-47cd-932a-485358df31f2",
   "metadata": {},
   "outputs": [
    {
     "data": {
      "text/plain": [
       "array([[1.37590e+00, 5.57130e+02, 3.43720e+02, ..., 2.62275e+03,\n",
       "        1.48600e+02, 7.67400e-01],\n",
       "       [1.37770e+00, 5.57860e+02, 3.44000e+02, ..., 2.62566e+03,\n",
       "        1.48690e+02, 7.68400e-01],\n",
       "       [1.38070e+00, 5.57950e+02, 3.44350e+02, ..., 2.62650e+03,\n",
       "        1.48780e+02, 7.68800e-01],\n",
       "       ...,\n",
       "       [2.79000e+00, 6.30900e+02, 4.61500e+02, ..., 3.23037e+03,\n",
       "        1.69000e+02, 1.12200e+00],\n",
       "       [2.78900e+00, 6.30800e+02, 4.61100e+02, ..., 3.23000e+03,\n",
       "        1.68800e+02, 1.12110e+00],\n",
       "       [2.78900e+00, 6.30600e+02, 4.60900e+02, ..., 3.22850e+03,\n",
       "        1.68800e+02, 1.12040e+00]])"
      ]
     },
     "execution_count": 17,
     "metadata": {},
     "output_type": "execute_result"
    }
   ],
   "source": [
    "price_array"
   ]
  },
  {
   "cell_type": "code",
   "execution_count": null,
   "id": "b7ecd7c5-4966-4a12-ad28-e8b6e71c667e",
   "metadata": {},
   "outputs": [],
   "source": []
  }
 ],
 "metadata": {
  "kernelspec": {
   "display_name": "ml38",
   "language": "python",
   "name": "ml38"
  },
  "language_info": {
   "codemirror_mode": {
    "name": "ipython",
    "version": 3
   },
   "file_extension": ".py",
   "mimetype": "text/x-python",
   "name": "python",
   "nbconvert_exporter": "python",
   "pygments_lexer": "ipython3",
   "version": "3.8.5"
  }
 },
 "nbformat": 4,
 "nbformat_minor": 5
}
