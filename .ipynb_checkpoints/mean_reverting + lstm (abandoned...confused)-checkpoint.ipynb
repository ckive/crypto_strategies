{
 "cells": [
  {
   "cell_type": "markdown",
   "id": "ad095d05-40e0-4b05-9f11-cb0b7a3b9e7d",
   "metadata": {},
   "source": [
    "# Mean Reverting\n",
    "- when price moves too far from some avg/trend\n",
    "- how far is too far?\n",
    "    - when price_actual is 5% from price_predicted\n",
    "\n",
    "data <== ccxt <br>\n",
    "predictions <== ffnn lin_reg <br>\n",
    "10 ma (10 mins)"
   ]
  },
  {
   "cell_type": "code",
   "execution_count": 23,
   "id": "8d4bc2d5-6c5a-4c3f-8fda-258872a75585",
   "metadata": {},
   "outputs": [],
   "source": [
    "import pandas as pd\n",
    "import numpy as np\n",
    "from matplotlib import pyplot as plt\n",
    "import seaborn as sns\n",
    "from pandas.plotting import autocorrelation_plot\n",
    "import torch\n",
    "import torch.nn as nn\n",
    "import torch.optim as optim\n",
    "from cpl.data.processor_binance import BinanceProcessor"
   ]
  },
  {
   "cell_type": "code",
   "execution_count": 2,
   "id": "20586a78-7b3b-4873-8687-70d5c7afbe06",
   "metadata": {},
   "outputs": [],
   "source": [
    "ticker_list = [\"BTCUSDT\",\"ETHUSDT\"]\n",
    "start_date = \"2021-12-01\"\n",
    "end_date = \"2021-12-31\"\n",
    "time_interval = \"1m\""
   ]
  },
  {
   "cell_type": "code",
   "execution_count": 3,
   "id": "b5869e77-77fc-4c07-938e-2f07f56f545a",
   "metadata": {},
   "outputs": [],
   "source": [
    "p = BinanceProcessor(\"binance\")\n",
    "raw = p.download_data(ticker_list, start_date, end_date, time_interval)"
   ]
  },
  {
   "cell_type": "code",
   "execution_count": 4,
   "id": "72682a90-0b72-4d0d-a85d-6fea76862b69",
   "metadata": {},
   "outputs": [
    {
     "data": {
      "text/html": [
       "<div>\n",
       "<style scoped>\n",
       "    .dataframe tbody tr th:only-of-type {\n",
       "        vertical-align: middle;\n",
       "    }\n",
       "\n",
       "    .dataframe tbody tr th {\n",
       "        vertical-align: top;\n",
       "    }\n",
       "\n",
       "    .dataframe thead th {\n",
       "        text-align: right;\n",
       "    }\n",
       "</style>\n",
       "<table border=\"1\" class=\"dataframe\">\n",
       "  <thead>\n",
       "    <tr style=\"text-align: right;\">\n",
       "      <th></th>\n",
       "      <th>time</th>\n",
       "      <th>open</th>\n",
       "      <th>high</th>\n",
       "      <th>low</th>\n",
       "      <th>close</th>\n",
       "      <th>volume</th>\n",
       "      <th>adj_close</th>\n",
       "      <th>tic</th>\n",
       "    </tr>\n",
       "  </thead>\n",
       "  <tbody>\n",
       "    <tr>\n",
       "      <th>0</th>\n",
       "      <td>2021-12-01 00:00:00</td>\n",
       "      <td>56782.00</td>\n",
       "      <td>56817.36</td>\n",
       "      <td>56780.00</td>\n",
       "      <td>56782.00</td>\n",
       "      <td>17.52761</td>\n",
       "      <td>56782.00</td>\n",
       "      <td>BTCUSDT</td>\n",
       "    </tr>\n",
       "    <tr>\n",
       "      <th>1</th>\n",
       "      <td>2021-12-01 00:01:00</td>\n",
       "      <td>56782.00</td>\n",
       "      <td>56813.51</td>\n",
       "      <td>56740.00</td>\n",
       "      <td>56755.50</td>\n",
       "      <td>39.00328</td>\n",
       "      <td>56755.50</td>\n",
       "      <td>BTCUSDT</td>\n",
       "    </tr>\n",
       "    <tr>\n",
       "      <th>2</th>\n",
       "      <td>2021-12-01 00:02:00</td>\n",
       "      <td>56755.49</td>\n",
       "      <td>56755.50</td>\n",
       "      <td>56712.21</td>\n",
       "      <td>56720.84</td>\n",
       "      <td>23.64537</td>\n",
       "      <td>56720.84</td>\n",
       "      <td>BTCUSDT</td>\n",
       "    </tr>\n",
       "    <tr>\n",
       "      <th>3</th>\n",
       "      <td>2021-12-01 00:03:00</td>\n",
       "      <td>56720.83</td>\n",
       "      <td>56749.73</td>\n",
       "      <td>56712.22</td>\n",
       "      <td>56720.01</td>\n",
       "      <td>17.43134</td>\n",
       "      <td>56720.01</td>\n",
       "      <td>BTCUSDT</td>\n",
       "    </tr>\n",
       "    <tr>\n",
       "      <th>4</th>\n",
       "      <td>2021-12-01 00:04:00</td>\n",
       "      <td>56717.01</td>\n",
       "      <td>56727.62</td>\n",
       "      <td>56700.00</td>\n",
       "      <td>56714.45</td>\n",
       "      <td>19.49503</td>\n",
       "      <td>56714.45</td>\n",
       "      <td>BTCUSDT</td>\n",
       "    </tr>\n",
       "  </tbody>\n",
       "</table>\n",
       "</div>"
      ],
      "text/plain": [
       "                  time      open      high       low     close    volume  \\\n",
       "0  2021-12-01 00:00:00  56782.00  56817.36  56780.00  56782.00  17.52761   \n",
       "1  2021-12-01 00:01:00  56782.00  56813.51  56740.00  56755.50  39.00328   \n",
       "2  2021-12-01 00:02:00  56755.49  56755.50  56712.21  56720.84  23.64537   \n",
       "3  2021-12-01 00:03:00  56720.83  56749.73  56712.22  56720.01  17.43134   \n",
       "4  2021-12-01 00:04:00  56717.01  56727.62  56700.00  56714.45  19.49503   \n",
       "\n",
       "   adj_close      tic  \n",
       "0   56782.00  BTCUSDT  \n",
       "1   56755.50  BTCUSDT  \n",
       "2   56720.84  BTCUSDT  \n",
       "3   56720.01  BTCUSDT  \n",
       "4   56714.45  BTCUSDT  "
      ]
     },
     "execution_count": 4,
     "metadata": {},
     "output_type": "execute_result"
    }
   ],
   "source": [
    "raw.head()"
   ]
  },
  {
   "cell_type": "code",
   "execution_count": 5,
   "id": "132c52ca-1daf-4d83-b806-e9a6172b066d",
   "metadata": {},
   "outputs": [
    {
     "name": "stderr",
     "output_type": "stream",
     "text": [
      "<ipython-input-5-aaeb7b58933f>:2: SettingWithCopyWarning: \n",
      "A value is trying to be set on a copy of a slice from a DataFrame.\n",
      "Try using .loc[row_indexer,col_indexer] = value instead\n",
      "\n",
      "See the caveats in the documentation: https://pandas.pydata.org/pandas-docs/stable/user_guide/indexing.html#returning-a-view-versus-a-copy\n",
      "  proc1[\"ma10\"] = proc1['close'].rolling(10).mean()\n",
      "<ipython-input-5-aaeb7b58933f>:3: SettingWithCopyWarning: \n",
      "A value is trying to be set on a copy of a slice from a DataFrame.\n",
      "Try using .loc[row_indexer,col_indexer] = value instead\n",
      "\n",
      "See the caveats in the documentation: https://pandas.pydata.org/pandas-docs/stable/user_guide/indexing.html#returning-a-view-versus-a-copy\n",
      "  proc1[\"ratio\"] = proc1['close'] / proc1['ma10']\n",
      "<ipython-input-5-aaeb7b58933f>:4: SettingWithCopyWarning: \n",
      "A value is trying to be set on a copy of a slice from a DataFrame\n",
      "\n",
      "See the caveats in the documentation: https://pandas.pydata.org/pandas-docs/stable/user_guide/indexing.html#returning-a-view-versus-a-copy\n",
      "  proc1.dropna(inplace=True)\n"
     ]
    },
    {
     "data": {
      "text/html": [
       "<div>\n",
       "<style scoped>\n",
       "    .dataframe tbody tr th:only-of-type {\n",
       "        vertical-align: middle;\n",
       "    }\n",
       "\n",
       "    .dataframe tbody tr th {\n",
       "        vertical-align: top;\n",
       "    }\n",
       "\n",
       "    .dataframe thead th {\n",
       "        text-align: right;\n",
       "    }\n",
       "</style>\n",
       "<table border=\"1\" class=\"dataframe\">\n",
       "  <thead>\n",
       "    <tr style=\"text-align: right;\">\n",
       "      <th></th>\n",
       "      <th>time</th>\n",
       "      <th>close</th>\n",
       "      <th>ma10</th>\n",
       "      <th>ratio</th>\n",
       "    </tr>\n",
       "  </thead>\n",
       "  <tbody>\n",
       "    <tr>\n",
       "      <th>994</th>\n",
       "      <td>2021-12-30 13:34:00</td>\n",
       "      <td>3758.89</td>\n",
       "      <td>3757.721</td>\n",
       "      <td>1.000311</td>\n",
       "    </tr>\n",
       "    <tr>\n",
       "      <th>995</th>\n",
       "      <td>2021-12-30 13:35:00</td>\n",
       "      <td>3758.15</td>\n",
       "      <td>3758.057</td>\n",
       "      <td>1.000025</td>\n",
       "    </tr>\n",
       "    <tr>\n",
       "      <th>996</th>\n",
       "      <td>2021-12-30 13:36:00</td>\n",
       "      <td>3759.05</td>\n",
       "      <td>3758.496</td>\n",
       "      <td>1.000147</td>\n",
       "    </tr>\n",
       "    <tr>\n",
       "      <th>997</th>\n",
       "      <td>2021-12-30 13:37:00</td>\n",
       "      <td>3757.75</td>\n",
       "      <td>3758.459</td>\n",
       "      <td>0.999811</td>\n",
       "    </tr>\n",
       "    <tr>\n",
       "      <th>998</th>\n",
       "      <td>2021-12-30 13:38:00</td>\n",
       "      <td>3759.76</td>\n",
       "      <td>3758.867</td>\n",
       "      <td>1.000238</td>\n",
       "    </tr>\n",
       "  </tbody>\n",
       "</table>\n",
       "</div>"
      ],
      "text/plain": [
       "                    time    close      ma10     ratio\n",
       "994  2021-12-30 13:34:00  3758.89  3757.721  1.000311\n",
       "995  2021-12-30 13:35:00  3758.15  3758.057  1.000025\n",
       "996  2021-12-30 13:36:00  3759.05  3758.496  1.000147\n",
       "997  2021-12-30 13:37:00  3757.75  3758.459  0.999811\n",
       "998  2021-12-30 13:38:00  3759.76  3758.867  1.000238"
      ]
     },
     "execution_count": 5,
     "metadata": {},
     "output_type": "execute_result"
    }
   ],
   "source": [
    "proc1 = raw[[\"time\", \"close\"]]\n",
    "proc1[\"ma10\"] = proc1['close'].rolling(10).mean()\n",
    "proc1[\"ratio\"] = proc1['close'] / proc1['ma10']\n",
    "proc1.dropna(inplace=True)\n",
    "proc1.tail()"
   ]
  },
  {
   "cell_type": "code",
   "execution_count": 6,
   "id": "428296bc-5dcc-450f-87bb-f64ba16d71c6",
   "metadata": {},
   "outputs": [
    {
     "data": {
      "text/plain": [
       "count    41989.000000\n",
       "mean         0.999794\n",
       "std          0.011778\n",
       "min          0.108074\n",
       "25%          0.999153\n",
       "50%          1.000023\n",
       "75%          1.000859\n",
       "max          1.046472\n",
       "Name: ratio, dtype: float64"
      ]
     },
     "execution_count": 6,
     "metadata": {},
     "output_type": "execute_result"
    }
   ],
   "source": [
    "#check that ratio ~ 1\n",
    "proc1['ratio'].describe()"
   ]
  },
  {
   "cell_type": "code",
   "execution_count": 7,
   "id": "2f64d1f1-1112-4d09-b4c8-1a22bbffe6f6",
   "metadata": {},
   "outputs": [],
   "source": [
    "proc1.set_index('time', inplace=True)"
   ]
  },
  {
   "cell_type": "code",
   "execution_count": 8,
   "id": "087c514a-acd1-4928-a499-308cb630a947",
   "metadata": {},
   "outputs": [
    {
     "name": "stderr",
     "output_type": "stream",
     "text": [
      "<ipython-input-8-ad1fb1023fac>:1: SettingWithCopyWarning: \n",
      "A value is trying to be set on a copy of a slice from a DataFrame.\n",
      "Try using .loc[row_indexer,col_indexer] = value instead\n",
      "\n",
      "See the caveats in the documentation: https://pandas.pydata.org/pandas-docs/stable/user_guide/indexing.html#returning-a-view-versus-a-copy\n",
      "  proc1['day'] = pd.to_datetime(proc1.index).day\n"
     ]
    }
   ],
   "source": [
    "proc1['day'] = pd.to_datetime(proc1.index).day"
   ]
  },
  {
   "cell_type": "code",
   "execution_count": 9,
   "id": "43999319-4b9b-47d1-aaad-ab01f3b77b75",
   "metadata": {},
   "outputs": [
    {
     "data": {
      "text/html": [
       "<div>\n",
       "<style scoped>\n",
       "    .dataframe tbody tr th:only-of-type {\n",
       "        vertical-align: middle;\n",
       "    }\n",
       "\n",
       "    .dataframe tbody tr th {\n",
       "        vertical-align: top;\n",
       "    }\n",
       "\n",
       "    .dataframe thead th {\n",
       "        text-align: right;\n",
       "    }\n",
       "</style>\n",
       "<table border=\"1\" class=\"dataframe\">\n",
       "  <thead>\n",
       "    <tr style=\"text-align: right;\">\n",
       "      <th></th>\n",
       "      <th>close</th>\n",
       "      <th>ma10</th>\n",
       "      <th>ratio</th>\n",
       "      <th>day</th>\n",
       "    </tr>\n",
       "    <tr>\n",
       "      <th>time</th>\n",
       "      <th></th>\n",
       "      <th></th>\n",
       "      <th></th>\n",
       "      <th></th>\n",
       "    </tr>\n",
       "  </thead>\n",
       "  <tbody>\n",
       "    <tr>\n",
       "      <th>2021-12-30 13:34:00</th>\n",
       "      <td>3758.89</td>\n",
       "      <td>3757.721</td>\n",
       "      <td>1.000311</td>\n",
       "      <td>30</td>\n",
       "    </tr>\n",
       "    <tr>\n",
       "      <th>2021-12-30 13:35:00</th>\n",
       "      <td>3758.15</td>\n",
       "      <td>3758.057</td>\n",
       "      <td>1.000025</td>\n",
       "      <td>30</td>\n",
       "    </tr>\n",
       "    <tr>\n",
       "      <th>2021-12-30 13:36:00</th>\n",
       "      <td>3759.05</td>\n",
       "      <td>3758.496</td>\n",
       "      <td>1.000147</td>\n",
       "      <td>30</td>\n",
       "    </tr>\n",
       "    <tr>\n",
       "      <th>2021-12-30 13:37:00</th>\n",
       "      <td>3757.75</td>\n",
       "      <td>3758.459</td>\n",
       "      <td>0.999811</td>\n",
       "      <td>30</td>\n",
       "    </tr>\n",
       "    <tr>\n",
       "      <th>2021-12-30 13:38:00</th>\n",
       "      <td>3759.76</td>\n",
       "      <td>3758.867</td>\n",
       "      <td>1.000238</td>\n",
       "      <td>30</td>\n",
       "    </tr>\n",
       "  </tbody>\n",
       "</table>\n",
       "</div>"
      ],
      "text/plain": [
       "                       close      ma10     ratio  day\n",
       "time                                                 \n",
       "2021-12-30 13:34:00  3758.89  3757.721  1.000311   30\n",
       "2021-12-30 13:35:00  3758.15  3758.057  1.000025   30\n",
       "2021-12-30 13:36:00  3759.05  3758.496  1.000147   30\n",
       "2021-12-30 13:37:00  3757.75  3758.459  0.999811   30\n",
       "2021-12-30 13:38:00  3759.76  3758.867  1.000238   30"
      ]
     },
     "execution_count": 9,
     "metadata": {},
     "output_type": "execute_result"
    }
   ],
   "source": [
    "proc1.tail()"
   ]
  },
  {
   "cell_type": "code",
   "execution_count": 15,
   "id": "69e3b68a-a9d9-4428-b48f-8f8c401c6390",
   "metadata": {},
   "outputs": [
    {
     "data": {
      "image/png": "[encoded data removed]",
      "text/plain": [
       "<Figure size 432x288 with 1 Axes>"
      ]
     },
     "metadata": {
      "needs_background": "light"
     },
     "output_type": "display_data"
    }
   ],
   "source": [
    "#plot close price, ma \n",
    "plt.plot(proc1.index[:5000], proc1['close'][:5000], label = \"close\")\n",
    "plt.plot(proc1.index[:5000], proc1['ma10'][:5000], label = \"10m ma\")\n",
    "plt.legend() \n",
    "plt.show()"
   ]
  },
  {
   "cell_type": "code",
   "execution_count": 17,
   "id": "1ab20315-f741-4464-9d07-c314fa2ba80f",
   "metadata": {},
   "outputs": [],
   "source": [
    "class LSTMPredictor(nn.Module):\n",
    "    def __init__(self, dims):\n",
    "        super(LSTMPredictor, self).__init__()\n",
    "        self.dims = dims\n",
    "        #lstm1, lstm2, linear layer\n",
    "        self.lstm1 = nn.LSTMCell(1, self.dims)\n",
    "        self.lstm2 = nn.LSTMCell(self.dims, self.dims)\n",
    "        self.linear = nn.Linear(self.dims, 1)\n",
    "    \n",
    "    def forward(self, x, horizon=0):\n",
    "        #horizon = 0 just trains, > 0 means predict next n\n",
    "        outputs = []\n",
    "        n_samples = x.size(0)\n",
    "        #initial hidden state\n",
    "        h_t1 = torch.zeros(n_samples, self.dims, dtype=torch.float32)\n",
    "        #initial cell state\n",
    "        c_t1 = torch.zeros(n_samples, self.dims, dtype=torch.float32)\n",
    "        h_t2 = torch.zeros(n_samples, self.dims, dtype=torch.float32)\n",
    "        #initial cell state\n",
    "        c_t2 = torch.zeros(n_samples, self.dims, dtype=torch.float32)\n",
    "        \n",
    "        chunk_size = 1\n",
    "        for input_t in x.split(chunk_size, dim=1):\n",
    "            h_t, c_t = self.lstm1(input_t, (h_t, c_t))\n",
    "            h_t2, c_t2 = self.lstm1(h_t, (h_t2, c_t2))\n",
    "            output = self.linear(h_t2)\n",
    "            outputs.append(output)\n",
    "            \n",
    "        for i in range(future):\n",
    "            h_t, c_t = self.lstm1(output, (h_t, c_t))\n",
    "            h_t2, c_t2 = self.lstm1(h_t, (h_t2, c_t2))\n",
    "            output = self.linear(h_t2)\n",
    "            outputs.append(output)\n",
    "            \n",
    "        outputs = torch.cat(outputs,  dim=1)\n",
    "        return outputs\n",
    "                "
   ]
  },
  {
   "cell_type": "code",
   "execution_count": 22,
   "id": "d960da7e-1845-4109-a38c-bcade43381ce",
   "metadata": {},
   "outputs": [
    {
     "data": {
      "text/plain": [
       "(20000,)"
      ]
     },
     "execution_count": 22,
     "metadata": {},
     "output_type": "execute_result"
    }
   ],
   "source": [
    "proc1['close'][:20000].to_numpy().shape"
   ]
  },
  {
   "cell_type": "code",
   "execution_count": null,
   "id": "d1c78d9d-3a67-4697-a55a-8b06cc0da6eb",
   "metadata": {},
   "outputs": [],
   "source": [
    "train_X = proc1['close'].to_numpy()\n",
    "train_Y\n",
    "test_X\n",
    "test_Y"
   ]
  },
  {
   "cell_type": "code",
   "execution_count": null,
   "id": "8ffea5f6-0570-4b6a-a3c9-d34098ead7f7",
   "metadata": {},
   "outputs": [],
   "source": [
    "model = LSTMPredictor()\n",
    "criterion - nn.MSELoss()\n",
    "#limited memory bfgs, requires a function as an input\n",
    "optimizer = optim.LBFGS(model.parameters(), lr=0.8)\n",
    "n_steps = 100\n",
    "for i in range(n_steps):\n",
    "    print(\"Cur Step: \", i)\n",
    "    \n",
    "    # for the optimizer\n",
    "    def closure():\n",
    "        optimizer.zero_grad()\n",
    "        out = model(train_X)\n",
    "        loss = criterion(out, train_Y)\n",
    "        print(\"training loss: \", loss.item())\n",
    "        loss.backward()\n",
    "        return loss\n",
    "    optimizer.step(closure)\n",
    "    \n",
    "    #do predictions\n",
    "    with torch.no_grad():\n",
    "        future = 1000\n",
    "        pred = model.predict(test_X, future=future)\n",
    "        #exclude future values\n",
    "        loss = criterion(pred[:,:-future], test_Y)\n",
    "        print(\"test loss: \", loss.item())\n",
    "        y = pred.detach().numpy()\n",
    "        \n",
    "    #plot\n",
    "    "
   ]
  }
 ],
 "metadata": {
  "kernelspec": {
   "display_name": "ml38",
   "language": "python",
   "name": "ml38"
  },
  "language_info": {
   "codemirror_mode": {
    "name": "ipython",
    "version": 3
   },
   "file_extension": ".py",
   "mimetype": "text/x-python",
   "name": "python",
   "nbconvert_exporter": "python",
   "pygments_lexer": "ipython3",
   "version": "3.8.5"
  }
 },
 "nbformat": 4,
 "nbformat_minor": 5
}
