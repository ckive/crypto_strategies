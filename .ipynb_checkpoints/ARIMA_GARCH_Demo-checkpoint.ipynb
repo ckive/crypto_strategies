{
 "cells": [
  {
   "cell_type": "markdown",
   "id": "e8d5f604-876b-4ae0-aa1d-241ec710a28d",
   "metadata": {},
   "source": [
    "# ARIMA Example"
   ]
  },
  {
   "cell_type": "code",
   "execution_count": 9,
   "id": "d6db9c72-10fb-4b7d-8577-a817205ef6de",
   "metadata": {},
   "outputs": [
    {
     "ename": "ModuleNotFoundError",
     "evalue": "No module named 'ex'",
     "output_type": "error",
     "traceback": [
      "\u001b[0;31m---------------------------------------------------------------------------\u001b[0m",
      "\u001b[0;31mModuleNotFoundError\u001b[0m                       Traceback (most recent call last)",
      "\u001b[0;32m<ipython-input-9-4b6b123e07f1>\u001b[0m in \u001b[0;36m<module>\u001b[0;34m\u001b[0m\n\u001b[0;32m----> 1\u001b[0;31m \u001b[0;32mfrom\u001b[0m \u001b[0mex\u001b[0m \u001b[0;32mimport\u001b[0m \u001b[0;34m*\u001b[0m\u001b[0;34m\u001b[0m\u001b[0;34m\u001b[0m\u001b[0m\n\u001b[0m",
      "\u001b[0;31mModuleNotFoundError\u001b[0m: No module named 'ex'"
     ]
    }
   ],
   "source": [
    "from ex import *"
   ]
  },
  {
   "cell_type": "code",
   "execution_count": 8,
   "id": "0adbc456-e85b-401b-894c-7828cbb1f957",
   "metadata": {},
   "outputs": [
    {
     "ename": "ModuleNotFoundError",
     "evalue": "No module named 'cpl'",
     "output_type": "error",
     "traceback": [
      "\u001b[0;31m---------------------------------------------------------------------------\u001b[0m",
      "\u001b[0;31mModuleNotFoundError\u001b[0m                       Traceback (most recent call last)",
      "\u001b[0;32m<ipython-input-8-9f4d700ceacd>\u001b[0m in \u001b[0;36m<module>\u001b[0;34m\u001b[0m\n\u001b[1;32m      1\u001b[0m \u001b[0;31m#load data\u001b[0m\u001b[0;34m\u001b[0m\u001b[0;34m\u001b[0m\u001b[0;34m\u001b[0m\u001b[0m\n\u001b[0;32m----> 2\u001b[0;31m \u001b[0;32mfrom\u001b[0m \u001b[0mcpl\u001b[0m\u001b[0;34m.\u001b[0m\u001b[0mdata\u001b[0m\u001b[0;34m.\u001b[0m\u001b[0mprocessor_binance\u001b[0m \u001b[0;32mimport\u001b[0m \u001b[0mBinanceProcessor\u001b[0m\u001b[0;34m\u001b[0m\u001b[0;34m\u001b[0m\u001b[0m\n\u001b[0m",
      "\u001b[0;31mModuleNotFoundError\u001b[0m: No module named 'cpl'"
     ]
    }
   ],
   "source": [
    "#load data\n",
    "from cpl.data.processor_binance import BinanceProcessor"
   ]
  },
  {
   "cell_type": "code",
   "execution_count": 5,
   "id": "1b0a7e68-3b3a-4a00-a071-02bd15e52f2e",
   "metadata": {},
   "outputs": [
    {
     "ename": "NameError",
     "evalue": "name 'X' is not defined",
     "output_type": "error",
     "traceback": [
      "\u001b[0;31m---------------------------------------------------------------------------\u001b[0m",
      "\u001b[0;31mNameError\u001b[0m                                 Traceback (most recent call last)",
      "\u001b[0;32m<ipython-input-5-9fe2888a9ab3>\u001b[0m in \u001b[0;36m<module>\u001b[0;34m\u001b[0m\n\u001b[1;32m      2\u001b[0m \u001b[0;32mimport\u001b[0m \u001b[0mpmdarima\u001b[0m\u001b[0;34m\u001b[0m\u001b[0;34m\u001b[0m\u001b[0m\n\u001b[1;32m      3\u001b[0m \u001b[0;31m#automatically fit the optimal ARIMA model for given time series\u001b[0m\u001b[0;34m\u001b[0m\u001b[0;34m\u001b[0m\u001b[0;34m\u001b[0m\u001b[0m\n\u001b[0;32m----> 4\u001b[0;31m \u001b[0marima_model_fitted\u001b[0m \u001b[0;34m=\u001b[0m \u001b[0mpmdarima\u001b[0m\u001b[0;34m.\u001b[0m\u001b[0mauto_arima\u001b[0m\u001b[0;34m(\u001b[0m\u001b[0mX\u001b[0m\u001b[0;34m)\u001b[0m\u001b[0;34m\u001b[0m\u001b[0;34m\u001b[0m\u001b[0m\n\u001b[0m\u001b[1;32m      5\u001b[0m \u001b[0;31m# one-step out-of sample forecast\u001b[0m\u001b[0;34m\u001b[0m\u001b[0;34m\u001b[0m\u001b[0;34m\u001b[0m\u001b[0m\n\u001b[1;32m      6\u001b[0m \u001b[0mforecast\u001b[0m \u001b[0;34m=\u001b[0m \u001b[0marima_model\u001b[0m\u001b[0;34m.\u001b[0m\u001b[0mpredict\u001b[0m\u001b[0;34m(\u001b[0m\u001b[0mn_periods\u001b[0m\u001b[0;34m=\u001b[0m\u001b[0;36m1\u001b[0m\u001b[0;34m)\u001b[0m\u001b[0;34m[\u001b[0m\u001b[0;36m0\u001b[0m\u001b[0;34m]\u001b[0m\u001b[0;34m\u001b[0m\u001b[0;34m\u001b[0m\u001b[0m\n",
      "\u001b[0;31mNameError\u001b[0m: name 'X' is not defined"
     ]
    }
   ],
   "source": [
    "# load pmdarima\n",
    "import pmdarima\n",
    "#automatically fit the optimal ARIMA model for given time series\n",
    "arima_model_fitted = pmdarima.auto_arima(X)\n",
    "# one-step out-of sample forecast\n",
    "forecast = arima_model.predict(n_periods=1)[0]\n",
    "\n",
    "# load statsmodels\n",
    "import statsmodels.tsa.arima_model.stm\n",
    "# fit ARIMA model\n",
    "model = stm.ARIMA(X, order=(3,1,2))\n",
    "model_fit = model.fit()\n",
    "# one-step out-of sample forecast\n",
    "forecast = model_fit.forecast()[0]"
   ]
  },
  {
   "cell_type": "code",
   "execution_count": 3,
   "id": "512efab1-dee9-4e72-b359-43a8e0f4e630",
   "metadata": {},
   "outputs": [
    {
     "ename": "NameError",
     "evalue": "name 'returns' is not defined",
     "output_type": "error",
     "traceback": [
      "\u001b[0;31m---------------------------------------------------------------------------\u001b[0m",
      "\u001b[0;31mNameError\u001b[0m                                 Traceback (most recent call last)",
      "\u001b[0;32m<ipython-input-3-8ba74d9d751b>\u001b[0m in \u001b[0;36m<module>\u001b[0;34m\u001b[0m\n\u001b[1;32m      3\u001b[0m \u001b[0;34m\u001b[0m\u001b[0m\n\u001b[1;32m      4\u001b[0m \u001b[0;31m# fit ARIMA on returns\u001b[0m\u001b[0;34m\u001b[0m\u001b[0;34m\u001b[0m\u001b[0;34m\u001b[0m\u001b[0m\n\u001b[0;32m----> 5\u001b[0;31m \u001b[0marima_model_fitted\u001b[0m \u001b[0;34m=\u001b[0m \u001b[0mpmdarima\u001b[0m\u001b[0;34m.\u001b[0m\u001b[0mauto_arima\u001b[0m\u001b[0;34m(\u001b[0m\u001b[0mreturns\u001b[0m\u001b[0;34m)\u001b[0m\u001b[0;34m\u001b[0m\u001b[0;34m\u001b[0m\u001b[0m\n\u001b[0m\u001b[1;32m      6\u001b[0m \u001b[0mp\u001b[0m\u001b[0;34m,\u001b[0m \u001b[0md\u001b[0m\u001b[0;34m,\u001b[0m \u001b[0mq\u001b[0m \u001b[0;34m=\u001b[0m \u001b[0marima_model\u001b[0m\u001b[0;34m.\u001b[0m\u001b[0morder\u001b[0m\u001b[0;34m\u001b[0m\u001b[0;34m\u001b[0m\u001b[0m\n\u001b[1;32m      7\u001b[0m \u001b[0marima_residuals\u001b[0m \u001b[0;34m=\u001b[0m \u001b[0marima_model\u001b[0m\u001b[0;34m.\u001b[0m\u001b[0marima_res_\u001b[0m\u001b[0;34m.\u001b[0m\u001b[0mresid\u001b[0m\u001b[0;34m\u001b[0m\u001b[0;34m\u001b[0m\u001b[0m\n",
      "\u001b[0;31mNameError\u001b[0m: name 'returns' is not defined"
     ]
    }
   ],
   "source": [
    "import pmdarima\n",
    "import arch\n",
    "\n",
    "# fit ARIMA on returns \n",
    "arima_model_fitted = pmdarima.auto_arima(returns)\n",
    "p, d, q = arima_model.order\n",
    "arima_residuals = arima_model.arima_res_.resid\n",
    "\n",
    "# fit a GARCH(1,1) model on the residuals of the ARIMA model\n",
    "garch = arch.arch_model(arima_residuals, p=1, q=1)\n",
    "garch_fitted = garch.fit()\n",
    "\n",
    "# Use ARIMA to predict mu\n",
    "predicted_mu = arima_model.predict(n_periods=1)[0]\n",
    "# Use GARCH to predict the residual\n",
    "garch_forecast = garch_model.forecast(horizon=1)\n",
    "predicted_et = garch_forecast.mean['h.1'].iloc[-1]\n",
    "# Combine both models' output: yt = mu + et\n",
    "prediction = predicted_mu + predicted_et"
   ]
  },
  {
   "cell_type": "code",
   "execution_count": null,
   "id": "d281a55c-6285-4fee-b79d-f81fba06e7eb",
   "metadata": {},
   "outputs": [],
   "source": []
  }
 ],
 "metadata": {
  "kernelspec": {
   "display_name": "Python 3",
   "language": "python",
   "name": "python3"
  },
  "language_info": {
   "codemirror_mode": {
    "name": "ipython",
    "version": 3
   },
   "file_extension": ".py",
   "mimetype": "text/x-python",
   "name": "python",
   "nbconvert_exporter": "python",
   "pygments_lexer": "ipython3",
   "version": "3.8.5"
  }
 },
 "nbformat": 4,
 "nbformat_minor": 5
}
